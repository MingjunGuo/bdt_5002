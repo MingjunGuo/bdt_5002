{
 "cells": [
  {
   "cell_type": "code",
   "execution_count": 1,
   "metadata": {
    "collapsed": true
   },
   "outputs": [],
   "source": [
    "import numpy as np\n",
    "import pandas as pd\n",
    "import matplotlib as mpl\n",
    "import matplotlib.pyplot as plt \n",
    "import seaborn as sns\n",
    "from sklearn.preprocessing import StandardScaler\n",
    "\n",
    "columns = ['Age','Workclass','fnlgwt','Education','Education num','Marital Status',\n",
    "           'Occupation','Relationship','Race','Sex','Capital Gain','Capital Loss',\n",
    "           'Hours/Week','Native country','Income']\n",
    "\n",
    "train = pd.read_csv('input/adult-training.csv', names=columns)\n",
    "test = pd.read_csv('input/adult-test.csv', names=columns, skiprows=1)\n",
    "\n",
    "%matplotlib inline"
   ]
  },
  {
   "cell_type": "code",
   "execution_count": 2,
   "metadata": {},
   "outputs": [
    {
     "data": {
      "text/html": [
       "<div>\n",
       "<style>\n",
       "    .dataframe thead tr:only-child th {\n",
       "        text-align: right;\n",
       "    }\n",
       "\n",
       "    .dataframe thead th {\n",
       "        text-align: left;\n",
       "    }\n",
       "\n",
       "    .dataframe tbody tr th {\n",
       "        vertical-align: top;\n",
       "    }\n",
       "</style>\n",
       "<table border=\"1\" class=\"dataframe\">\n",
       "  <thead>\n",
       "    <tr style=\"text-align: right;\">\n",
       "      <th></th>\n",
       "      <th>Age</th>\n",
       "      <th>Workclass</th>\n",
       "      <th>fnlgwt</th>\n",
       "      <th>Education</th>\n",
       "      <th>Education num</th>\n",
       "      <th>Marital Status</th>\n",
       "      <th>Occupation</th>\n",
       "      <th>Relationship</th>\n",
       "      <th>Race</th>\n",
       "      <th>Sex</th>\n",
       "      <th>Capital Gain</th>\n",
       "      <th>Capital Loss</th>\n",
       "      <th>Hours/Week</th>\n",
       "      <th>Native country</th>\n",
       "      <th>Income</th>\n",
       "    </tr>\n",
       "  </thead>\n",
       "  <tbody>\n",
       "    <tr>\n",
       "      <th>0</th>\n",
       "      <td>39</td>\n",
       "      <td>State-gov</td>\n",
       "      <td>77516</td>\n",
       "      <td>Bachelors</td>\n",
       "      <td>13</td>\n",
       "      <td>Never-married</td>\n",
       "      <td>Adm-clerical</td>\n",
       "      <td>Not-in-family</td>\n",
       "      <td>White</td>\n",
       "      <td>Male</td>\n",
       "      <td>2174</td>\n",
       "      <td>0</td>\n",
       "      <td>40</td>\n",
       "      <td>United-States</td>\n",
       "      <td>&lt;=50K</td>\n",
       "    </tr>\n",
       "    <tr>\n",
       "      <th>1</th>\n",
       "      <td>50</td>\n",
       "      <td>Self-emp-not-inc</td>\n",
       "      <td>83311</td>\n",
       "      <td>Bachelors</td>\n",
       "      <td>13</td>\n",
       "      <td>Married-civ-spouse</td>\n",
       "      <td>Exec-managerial</td>\n",
       "      <td>Husband</td>\n",
       "      <td>White</td>\n",
       "      <td>Male</td>\n",
       "      <td>0</td>\n",
       "      <td>0</td>\n",
       "      <td>13</td>\n",
       "      <td>United-States</td>\n",
       "      <td>&lt;=50K</td>\n",
       "    </tr>\n",
       "    <tr>\n",
       "      <th>2</th>\n",
       "      <td>38</td>\n",
       "      <td>Private</td>\n",
       "      <td>215646</td>\n",
       "      <td>HS-grad</td>\n",
       "      <td>9</td>\n",
       "      <td>Divorced</td>\n",
       "      <td>Handlers-cleaners</td>\n",
       "      <td>Not-in-family</td>\n",
       "      <td>White</td>\n",
       "      <td>Male</td>\n",
       "      <td>0</td>\n",
       "      <td>0</td>\n",
       "      <td>40</td>\n",
       "      <td>United-States</td>\n",
       "      <td>&lt;=50K</td>\n",
       "    </tr>\n",
       "    <tr>\n",
       "      <th>3</th>\n",
       "      <td>53</td>\n",
       "      <td>Private</td>\n",
       "      <td>234721</td>\n",
       "      <td>11th</td>\n",
       "      <td>7</td>\n",
       "      <td>Married-civ-spouse</td>\n",
       "      <td>Handlers-cleaners</td>\n",
       "      <td>Husband</td>\n",
       "      <td>Black</td>\n",
       "      <td>Male</td>\n",
       "      <td>0</td>\n",
       "      <td>0</td>\n",
       "      <td>40</td>\n",
       "      <td>United-States</td>\n",
       "      <td>&lt;=50K</td>\n",
       "    </tr>\n",
       "    <tr>\n",
       "      <th>4</th>\n",
       "      <td>28</td>\n",
       "      <td>Private</td>\n",
       "      <td>338409</td>\n",
       "      <td>Bachelors</td>\n",
       "      <td>13</td>\n",
       "      <td>Married-civ-spouse</td>\n",
       "      <td>Prof-specialty</td>\n",
       "      <td>Wife</td>\n",
       "      <td>Black</td>\n",
       "      <td>Female</td>\n",
       "      <td>0</td>\n",
       "      <td>0</td>\n",
       "      <td>40</td>\n",
       "      <td>Cuba</td>\n",
       "      <td>&lt;=50K</td>\n",
       "    </tr>\n",
       "  </tbody>\n",
       "</table>\n",
       "</div>"
      ],
      "text/plain": [
       "   Age          Workclass  fnlgwt   Education  Education num  \\\n",
       "0   39          State-gov   77516   Bachelors             13   \n",
       "1   50   Self-emp-not-inc   83311   Bachelors             13   \n",
       "2   38            Private  215646     HS-grad              9   \n",
       "3   53            Private  234721        11th              7   \n",
       "4   28            Private  338409   Bachelors             13   \n",
       "\n",
       "        Marital Status          Occupation    Relationship    Race      Sex  \\\n",
       "0        Never-married        Adm-clerical   Not-in-family   White     Male   \n",
       "1   Married-civ-spouse     Exec-managerial         Husband   White     Male   \n",
       "2             Divorced   Handlers-cleaners   Not-in-family   White     Male   \n",
       "3   Married-civ-spouse   Handlers-cleaners         Husband   Black     Male   \n",
       "4   Married-civ-spouse      Prof-specialty            Wife   Black   Female   \n",
       "\n",
       "   Capital Gain  Capital Loss  Hours/Week  Native country  Income  \n",
       "0          2174             0          40   United-States   <=50K  \n",
       "1             0             0          13   United-States   <=50K  \n",
       "2             0             0          40   United-States   <=50K  \n",
       "3             0             0          40   United-States   <=50K  \n",
       "4             0             0          40            Cuba   <=50K  "
      ]
     },
     "execution_count": 2,
     "metadata": {},
     "output_type": "execute_result"
    }
   ],
   "source": [
    "train.head()"
   ]
  },
  {
   "cell_type": "code",
   "execution_count": 3,
   "metadata": {},
   "outputs": [
    {
     "name": "stdout",
     "output_type": "stream",
     "text": [
      "<class 'pandas.core.frame.DataFrame'>\n",
      "RangeIndex: 32561 entries, 0 to 32560\n",
      "Data columns (total 15 columns):\n",
      "Age               32561 non-null int64\n",
      "Workclass         32561 non-null object\n",
      "fnlgwt            32561 non-null int64\n",
      "Education         32561 non-null object\n",
      "Education num     32561 non-null int64\n",
      "Marital Status    32561 non-null object\n",
      "Occupation        32561 non-null object\n",
      "Relationship      32561 non-null object\n",
      "Race              32561 non-null object\n",
      "Sex               32561 non-null object\n",
      "Capital Gain      32561 non-null int64\n",
      "Capital Loss      32561 non-null int64\n",
      "Hours/Week        32561 non-null int64\n",
      "Native country    32561 non-null object\n",
      "Income            32561 non-null object\n",
      "dtypes: int64(6), object(9)\n",
      "memory usage: 3.7+ MB\n"
     ]
    }
   ],
   "source": [
    "train.info()"
   ]
  },
  {
   "cell_type": "code",
   "execution_count": 4,
   "metadata": {},
   "outputs": [
    {
     "name": "stdout",
     "output_type": "stream",
     "text": [
      "<class 'pandas.core.frame.DataFrame'>\n",
      "RangeIndex: 16281 entries, 0 to 16280\n",
      "Data columns (total 15 columns):\n",
      "Age               16281 non-null int64\n",
      "Workclass         16281 non-null object\n",
      "fnlgwt            16281 non-null int64\n",
      "Education         16281 non-null object\n",
      "Education num     16281 non-null int64\n",
      "Marital Status    16281 non-null object\n",
      "Occupation        16281 non-null object\n",
      "Relationship      16281 non-null object\n",
      "Race              16281 non-null object\n",
      "Sex               16281 non-null object\n",
      "Capital Gain      16281 non-null int64\n",
      "Capital Loss      16281 non-null int64\n",
      "Hours/Week        16281 non-null int64\n",
      "Native country    16281 non-null object\n",
      "Income            16281 non-null object\n",
      "dtypes: int64(6), object(9)\n",
      "memory usage: 1.9+ MB\n"
     ]
    }
   ],
   "source": [
    "test.info()"
   ]
  },
  {
   "cell_type": "code",
   "execution_count": 5,
   "metadata": {
    "collapsed": true
   },
   "outputs": [],
   "source": [
    "train.replace(' ?', np.nan, inplace=True)\n",
    "test.replace(' ?', np.nan, inplace=True)"
   ]
  },
  {
   "cell_type": "code",
   "execution_count": 6,
   "metadata": {},
   "outputs": [
    {
     "data": {
      "text/plain": [
       "Age                  0\n",
       "Workclass         1836\n",
       "fnlgwt               0\n",
       "Education            0\n",
       "Education num        0\n",
       "Marital Status       0\n",
       "Occupation        1843\n",
       "Relationship         0\n",
       "Race                 0\n",
       "Sex                  0\n",
       "Capital Gain         0\n",
       "Capital Loss         0\n",
       "Hours/Week           0\n",
       "Native country     583\n",
       "Income               0\n",
       "dtype: int64"
      ]
     },
     "execution_count": 6,
     "metadata": {},
     "output_type": "execute_result"
    }
   ],
   "source": [
    "train.isnull().sum()"
   ]
  },
  {
   "cell_type": "code",
   "execution_count": 7,
   "metadata": {},
   "outputs": [
    {
     "data": {
      "text/plain": [
       "Age                 0\n",
       "Workclass         963\n",
       "fnlgwt              0\n",
       "Education           0\n",
       "Education num       0\n",
       "Marital Status      0\n",
       "Occupation        966\n",
       "Relationship        0\n",
       "Race                0\n",
       "Sex                 0\n",
       "Capital Gain        0\n",
       "Capital Loss        0\n",
       "Hours/Week          0\n",
       "Native country    274\n",
       "Income              0\n",
       "dtype: int64"
      ]
     },
     "execution_count": 7,
     "metadata": {},
     "output_type": "execute_result"
    }
   ],
   "source": [
    "test.isnull().sum()"
   ]
  },
  {
   "cell_type": "code",
   "execution_count": 8,
   "metadata": {
    "collapsed": true
   },
   "outputs": [],
   "source": [
    "train['Income'] = train['Income'].apply(lambda x: 1 if x==' >50K' else 0)\n",
    "test['Income'] = test['Income'].apply(lambda x: 1 if x==' >50K.' else 0)"
   ]
  },
  {
   "cell_type": "code",
   "execution_count": 9,
   "metadata": {},
   "outputs": [
    {
     "data": {
      "image/png": "[encoded data removed]",
      "text/plain": [
       "<Figure size 432x288 with 1 Axes>"
      ]
     },
     "metadata": {},
     "output_type": "display_data"
    }
   ],
   "source": [
    "plt.hist(train['Age']);"
   ]
  },
  {
   "cell_type": "code",
   "execution_count": 10,
   "metadata": {
    "collapsed": true
   },
   "outputs": [],
   "source": [
    "train['Workclass'].fillna(' 0', inplace=True)\n",
    "test['Workclass'].fillna(' 0', inplace=True)"
   ]
  },
  {
   "cell_type": "code",
   "execution_count": 11,
   "metadata": {},
   "outputs": [
    {
     "name": "stderr",
     "output_type": "stream",
     "text": [
      "D:\\Anaconda\\lib\\site-packages\\scipy\\stats\\stats.py:1713: FutureWarning: Using a non-tuple sequence for multidimensional indexing is deprecated; use `arr[tuple(seq)]` instead of `arr[seq]`. In the future this will be interpreted as an array index, `arr[np.array(seq)]`, which will result either in an error or a different result.\n",
      "  return np.add.reduce(sorted[indexer] * weights, axis=axis) / sumval\n"
     ]
    },
    {
     "data": {
      "image/png": "[encoded data removed]",
      "text/plain": [
       "<Figure size 432x432 with 1 Axes>"
      ]
     },
     "metadata": {},
     "output_type": "display_data"
    }
   ],
   "source": [
    "sns.factorplot(x=\"Workclass\", y=\"Income\", data=train, kind=\"bar\", size = 6, \n",
    "palette = \"muted\")\n",
    "plt.xticks(rotation=45);"
   ]
  },
  {
   "cell_type": "code",
   "execution_count": 12,
   "metadata": {},
   "outputs": [
    {
     "data": {
      "text/plain": [
       " Private             22696\n",
       " Self-emp-not-inc     2541\n",
       " Local-gov            2093\n",
       " 0                    1836\n",
       " State-gov            1298\n",
       " Self-emp-inc         1116\n",
       " Federal-gov           960\n",
       " Without-pay            14\n",
       " Never-worked            7\n",
       "Name: Workclass, dtype: int64"
      ]
     },
     "execution_count": 12,
     "metadata": {},
     "output_type": "execute_result"
    }
   ],
   "source": [
    "train['Workclass'].value_counts()"
   ]
  },
  {
   "cell_type": "code",
   "execution_count": 13,
   "metadata": {
    "collapsed": true
   },
   "outputs": [],
   "source": [
    "train['Workclass'].replace(' Without-pay', ' Never-worked', inplace=True)\n",
    "test['Workclass'].replace(' Without-pay', ' Never-worked', inplace=True)"
   ]
  },
  {
   "cell_type": "code",
   "execution_count": 14,
   "metadata": {},
   "outputs": [
    {
     "data": {
      "text/plain": [
       "count    3.256100e+04\n",
       "mean     1.897784e+05\n",
       "std      1.055500e+05\n",
       "min      1.228500e+04\n",
       "25%      1.178270e+05\n",
       "50%      1.783560e+05\n",
       "75%      2.370510e+05\n",
       "max      1.484705e+06\n",
       "Name: fnlgwt, dtype: float64"
      ]
     },
     "execution_count": 14,
     "metadata": {},
     "output_type": "execute_result"
    }
   ],
   "source": [
    "train['fnlgwt'].describe()"
   ]
  },
  {
   "cell_type": "code",
   "execution_count": 15,
   "metadata": {
    "collapsed": true
   },
   "outputs": [],
   "source": [
    "train['fnlgwt'] = train['fnlgwt'].apply(lambda x: np.log1p(x))\n",
    "test['fnlgwt'] = test['fnlgwt'].apply(lambda x: np.log1p(x))"
   ]
  },
  {
   "cell_type": "code",
   "execution_count": 16,
   "metadata": {},
   "outputs": [
    {
     "data": {
      "text/plain": [
       "count    32561.000000\n",
       "mean        11.983778\n",
       "std          0.630738\n",
       "min          9.416216\n",
       "25%         11.676981\n",
       "50%         12.091542\n",
       "75%         12.376035\n",
       "max         14.210727\n",
       "Name: fnlgwt, dtype: float64"
      ]
     },
     "execution_count": 16,
     "metadata": {},
     "output_type": "execute_result"
    }
   ],
   "source": [
    "train['fnlgwt'].describe()"
   ]
  },
  {
   "cell_type": "code",
   "execution_count": 17,
   "metadata": {},
   "outputs": [
    {
     "name": "stderr",
     "output_type": "stream",
     "text": [
      "D:\\Anaconda\\lib\\site-packages\\scipy\\stats\\stats.py:1713: FutureWarning: Using a non-tuple sequence for multidimensional indexing is deprecated; use `arr[tuple(seq)]` instead of `arr[seq]`. In the future this will be interpreted as an array index, `arr[np.array(seq)]`, which will result either in an error or a different result.\n",
      "  return np.add.reduce(sorted[indexer] * weights, axis=axis) / sumval\n"
     ]
    },
    {
     "data": {
      "image/png": "[encoded data removed]",
      "text/plain": [
       "<Figure size 504x504 with 1 Axes>"
      ]
     },
     "metadata": {},
     "output_type": "display_data"
    }
   ],
   "source": [
    "sns.factorplot(x=\"Education\",y=\"Income\",data=train,kind=\"bar\", size = 7, \n",
    "palette = \"muted\")\n",
    "plt.xticks(rotation=60);"
   ]
  },
  {
   "cell_type": "code",
   "execution_count": 18,
   "metadata": {
    "collapsed": true
   },
   "outputs": [],
   "source": [
    "def primary(x):\n",
    "    if x in [' 1st-4th', ' 5th-6th', ' 7th-8th', ' 9th', ' 10th', ' 11th', ' 12th']:\n",
    "        return ' Primary'\n",
    "    else:\n",
    "        return x"
   ]
  },
  {
   "cell_type": "code",
   "execution_count": 19,
   "metadata": {
    "collapsed": true
   },
   "outputs": [],
   "source": [
    "train['Education'] = train['Education'].apply(primary)\n",
    "test['Education'] = test['Education'].apply(primary)"
   ]
  },
  {
   "cell_type": "code",
   "execution_count": 20,
   "metadata": {},
   "outputs": [
    {
     "name": "stderr",
     "output_type": "stream",
     "text": [
      "D:\\Anaconda\\lib\\site-packages\\scipy\\stats\\stats.py:1713: FutureWarning: Using a non-tuple sequence for multidimensional indexing is deprecated; use `arr[tuple(seq)]` instead of `arr[seq]`. In the future this will be interpreted as an array index, `arr[np.array(seq)]`, which will result either in an error or a different result.\n",
      "  return np.add.reduce(sorted[indexer] * weights, axis=axis) / sumval\n"
     ]
    },
    {
     "data": {
      "image/png": "[encoded data removed]",
      "text/plain": [
       "<Figure size 432x432 with 1 Axes>"
      ]
     },
     "metadata": {},
     "output_type": "display_data"
    }
   ],
   "source": [
    "sns.factorplot(x=\"Education\",y=\"Income\",data=train,kind=\"bar\", size = 6, \n",
    "palette = \"muted\")\n",
    "plt.xticks(rotation=60);"
   ]
  },
  {
   "cell_type": "code",
   "execution_count": 21,
   "metadata": {},
   "outputs": [
    {
     "name": "stderr",
     "output_type": "stream",
     "text": [
      "D:\\Anaconda\\lib\\site-packages\\scipy\\stats\\stats.py:1713: FutureWarning: Using a non-tuple sequence for multidimensional indexing is deprecated; use `arr[tuple(seq)]` instead of `arr[seq]`. In the future this will be interpreted as an array index, `arr[np.array(seq)]`, which will result either in an error or a different result.\n",
      "  return np.add.reduce(sorted[indexer] * weights, axis=axis) / sumval\n"
     ]
    },
    {
     "data": {
      "image/png": "[encoded data removed]",
      "text/plain": [
       "<Figure size 432x432 with 1 Axes>"
      ]
     },
     "metadata": {},
     "output_type": "display_data"
    }
   ],
   "source": [
    "sns.factorplot(x=\"Education num\",y=\"Income\",data=train,kind=\"bar\", size = 6, \n",
    "palette = \"muted\")\n",
    "plt.xticks(rotation=60);"
   ]
  },
  {
   "cell_type": "code",
   "execution_count": 22,
   "metadata": {},
   "outputs": [
    {
     "name": "stderr",
     "output_type": "stream",
     "text": [
      "D:\\Anaconda\\lib\\site-packages\\scipy\\stats\\stats.py:1713: FutureWarning: Using a non-tuple sequence for multidimensional indexing is deprecated; use `arr[tuple(seq)]` instead of `arr[seq]`. In the future this will be interpreted as an array index, `arr[np.array(seq)]`, which will result either in an error or a different result.\n",
      "  return np.add.reduce(sorted[indexer] * weights, axis=axis) / sumval\n"
     ]
    },
    {
     "data": {
      "image/png": "[encoded data removed]",
      "text/plain": [
       "<Figure size 360x360 with 1 Axes>"
      ]
     },
     "metadata": {},
     "output_type": "display_data"
    }
   ],
   "source": [
    "sns.factorplot(x=\"Marital Status\",y=\"Income\",data=train,kind=\"bar\", size = 5, \n",
    "palette = \"muted\")\n",
    "plt.xticks(rotation=60);"
   ]
  },
  {
   "cell_type": "code",
   "execution_count": 23,
   "metadata": {},
   "outputs": [
    {
     "data": {
      "text/plain": [
       " Married-civ-spouse       14976\n",
       " Never-married            10683\n",
       " Divorced                  4443\n",
       " Separated                 1025\n",
       " Widowed                    993\n",
       " Married-spouse-absent      418\n",
       " Married-AF-spouse           23\n",
       "Name: Marital Status, dtype: int64"
      ]
     },
     "execution_count": 23,
     "metadata": {},
     "output_type": "execute_result"
    }
   ],
   "source": [
    "train['Marital Status'].value_counts()"
   ]
  },
  {
   "cell_type": "code",
   "execution_count": 24,
   "metadata": {
    "collapsed": true
   },
   "outputs": [],
   "source": [
    "train['Marital Status'].replace(' Married-AF-spouse', ' Married-civ-spouse', inplace=True)\n",
    "test['Marital Status'].replace(' Married-AF-spouse', ' Married-civ-spouse', inplace=True)"
   ]
  },
  {
   "cell_type": "code",
   "execution_count": 25,
   "metadata": {},
   "outputs": [
    {
     "name": "stderr",
     "output_type": "stream",
     "text": [
      "D:\\Anaconda\\lib\\site-packages\\scipy\\stats\\stats.py:1713: FutureWarning: Using a non-tuple sequence for multidimensional indexing is deprecated; use `arr[tuple(seq)]` instead of `arr[seq]`. In the future this will be interpreted as an array index, `arr[np.array(seq)]`, which will result either in an error or a different result.\n",
      "  return np.add.reduce(sorted[indexer] * weights, axis=axis) / sumval\n"
     ]
    },
    {
     "data": {
      "image/png": "[encoded data removed]",
      "text/plain": [
       "<Figure size 432x432 with 1 Axes>"
      ]
     },
     "metadata": {},
     "output_type": "display_data"
    }
   ],
   "source": [
    "sns.factorplot(x=\"Marital Status\",y=\"Income\",data=train,kind=\"bar\", size = 6, \n",
    "palette = \"muted\")\n",
    "plt.xticks(rotation=60);"
   ]
  },
  {
   "cell_type": "code",
   "execution_count": 26,
   "metadata": {
    "collapsed": true
   },
   "outputs": [],
   "source": [
    "train['Occupation'].fillna(' 0', inplace=True)\n",
    "test['Occupation'].fillna(' 0', inplace=True)"
   ]
  },
  {
   "cell_type": "code",
   "execution_count": 27,
   "metadata": {},
   "outputs": [
    {
     "name": "stderr",
     "output_type": "stream",
     "text": [
      "D:\\Anaconda\\lib\\site-packages\\scipy\\stats\\stats.py:1713: FutureWarning: Using a non-tuple sequence for multidimensional indexing is deprecated; use `arr[tuple(seq)]` instead of `arr[seq]`. In the future this will be interpreted as an array index, `arr[np.array(seq)]`, which will result either in an error or a different result.\n",
      "  return np.add.reduce(sorted[indexer] * weights, axis=axis) / sumval\n"
     ]
    },
    {
     "data": {
      "image/png": "[encoded data removed]",
      "text/plain": [
       "<Figure size 576x576 with 1 Axes>"
      ]
     },
     "metadata": {},
     "output_type": "display_data"
    }
   ],
   "source": [
    "sns.factorplot(x=\"Occupation\",y=\"Income\",data=train,kind=\"bar\", size = 8, \n",
    "palette = \"muted\")\n",
    "plt.xticks(rotation=60);"
   ]
  },
  {
   "cell_type": "code",
   "execution_count": 28,
   "metadata": {},
   "outputs": [
    {
     "data": {
      "text/plain": [
       " Prof-specialty       4140\n",
       " Craft-repair         4099\n",
       " Exec-managerial      4066\n",
       " Adm-clerical         3770\n",
       " Sales                3650\n",
       " Other-service        3295\n",
       " Machine-op-inspct    2002\n",
       " 0                    1843\n",
       " Transport-moving     1597\n",
       " Handlers-cleaners    1370\n",
       " Farming-fishing       994\n",
       " Tech-support          928\n",
       " Protective-serv       649\n",
       " Priv-house-serv       149\n",
       " Armed-Forces            9\n",
       "Name: Occupation, dtype: int64"
      ]
     },
     "execution_count": 28,
     "metadata": {},
     "output_type": "execute_result"
    }
   ],
   "source": [
    "train['Occupation'].value_counts()"
   ]
  },
  {
   "cell_type": "code",
   "execution_count": 29,
   "metadata": {
    "collapsed": true
   },
   "outputs": [],
   "source": [
    "train['Occupation'].replace(' Armed-Forces', ' 0', inplace=True)\n",
    "test['Occupation'].replace(' Armed-Forces', ' 0', inplace=True)"
   ]
  },
  {
   "cell_type": "code",
   "execution_count": 30,
   "metadata": {},
   "outputs": [
    {
     "name": "stderr",
     "output_type": "stream",
     "text": [
      "D:\\Anaconda\\lib\\site-packages\\scipy\\stats\\stats.py:1713: FutureWarning: Using a non-tuple sequence for multidimensional indexing is deprecated; use `arr[tuple(seq)]` instead of `arr[seq]`. In the future this will be interpreted as an array index, `arr[np.array(seq)]`, which will result either in an error or a different result.\n",
      "  return np.add.reduce(sorted[indexer] * weights, axis=axis) / sumval\n"
     ]
    },
    {
     "data": {
      "image/png": "[encoded data removed]",
      "text/plain": [
       "<Figure size 576x576 with 1 Axes>"
      ]
     },
     "metadata": {},
     "output_type": "display_data"
    }
   ],
   "source": [
    "sns.factorplot(x=\"Occupation\",y=\"Income\",data=train,kind=\"bar\", size = 8, \n",
    "palette = \"muted\")\n",
    "plt.xticks(rotation=60);"
   ]
  },
  {
   "cell_type": "code",
   "execution_count": 31,
   "metadata": {},
   "outputs": [
    {
     "name": "stderr",
     "output_type": "stream",
     "text": [
      "D:\\Anaconda\\lib\\site-packages\\scipy\\stats\\stats.py:1713: FutureWarning: Using a non-tuple sequence for multidimensional indexing is deprecated; use `arr[tuple(seq)]` instead of `arr[seq]`. In the future this will be interpreted as an array index, `arr[np.array(seq)]`, which will result either in an error or a different result.\n",
      "  return np.add.reduce(sorted[indexer] * weights, axis=axis) / sumval\n"
     ]
    },
    {
     "data": {
      "image/png": "[encoded data removed]",
      "text/plain": [
       "<Figure size 432x432 with 1 Axes>"
      ]
     },
     "metadata": {},
     "output_type": "display_data"
    }
   ],
   "source": [
    "sns.factorplot(x=\"Relationship\",y=\"Income\",data=train,kind=\"bar\", size = 6, \n",
    "palette = \"muted\")\n",
    "plt.xticks(rotation=60);"
   ]
  },
  {
   "cell_type": "code",
   "execution_count": 32,
   "metadata": {},
   "outputs": [
    {
     "data": {
      "text/plain": [
       " Husband           13193\n",
       " Not-in-family      8305\n",
       " Own-child          5068\n",
       " Unmarried          3446\n",
       " Wife               1568\n",
       " Other-relative      981\n",
       "Name: Relationship, dtype: int64"
      ]
     },
     "execution_count": 32,
     "metadata": {},
     "output_type": "execute_result"
    }
   ],
   "source": [
    "train['Relationship'].value_counts()"
   ]
  },
  {
   "cell_type": "code",
   "execution_count": 33,
   "metadata": {},
   "outputs": [
    {
     "name": "stderr",
     "output_type": "stream",
     "text": [
      "D:\\Anaconda\\lib\\site-packages\\scipy\\stats\\stats.py:1713: FutureWarning: Using a non-tuple sequence for multidimensional indexing is deprecated; use `arr[tuple(seq)]` instead of `arr[seq]`. In the future this will be interpreted as an array index, `arr[np.array(seq)]`, which will result either in an error or a different result.\n",
      "  return np.add.reduce(sorted[indexer] * weights, axis=axis) / sumval\n"
     ]
    },
    {
     "data": {
      "image/png": "[encoded data removed]",
      "text/plain": [
       "<Figure size 432x432 with 1 Axes>"
      ]
     },
     "metadata": {},
     "output_type": "display_data"
    }
   ],
   "source": [
    "sns.factorplot(x=\"Race\",y=\"Income\",data=train,kind=\"bar\", size = 6, \n",
    "palette = \"muted\")\n",
    "plt.xticks(rotation=45);"
   ]
  },
  {
   "cell_type": "code",
   "execution_count": 34,
   "metadata": {},
   "outputs": [
    {
     "data": {
      "text/plain": [
       " White                 27816\n",
       " Black                  3124\n",
       " Asian-Pac-Islander     1039\n",
       " Amer-Indian-Eskimo      311\n",
       " Other                   271\n",
       "Name: Race, dtype: int64"
      ]
     },
     "execution_count": 34,
     "metadata": {},
     "output_type": "execute_result"
    }
   ],
   "source": [
    "train['Race'].value_counts()"
   ]
  },
  {
   "cell_type": "code",
   "execution_count": 35,
   "metadata": {},
   "outputs": [
    {
     "name": "stderr",
     "output_type": "stream",
     "text": [
      "D:\\Anaconda\\lib\\site-packages\\scipy\\stats\\stats.py:1713: FutureWarning: Using a non-tuple sequence for multidimensional indexing is deprecated; use `arr[tuple(seq)]` instead of `arr[seq]`. In the future this will be interpreted as an array index, `arr[np.array(seq)]`, which will result either in an error or a different result.\n",
      "  return np.add.reduce(sorted[indexer] * weights, axis=axis) / sumval\n"
     ]
    },
    {
     "data": {
      "image/png": "[encoded data removed]",
      "text/plain": [
       "<Figure size 288x288 with 1 Axes>"
      ]
     },
     "metadata": {},
     "output_type": "display_data"
    }
   ],
   "source": [
    "sns.factorplot(x=\"Sex\",y=\"Income\",data=train,kind=\"bar\", size = 4, \n",
    "palette = \"muted\");"
   ]
  },
  {
   "cell_type": "code",
   "execution_count": 36,
   "metadata": {
    "collapsed": true
   },
   "outputs": [],
   "source": [
    "train['Native country'].fillna(' 0', inplace=True)\n",
    "test['Native country'].fillna(' 0', inplace=True)"
   ]
  },
  {
   "cell_type": "code",
   "execution_count": 37,
   "metadata": {},
   "outputs": [
    {
     "name": "stderr",
     "output_type": "stream",
     "text": [
      "D:\\Anaconda\\lib\\site-packages\\scipy\\stats\\stats.py:1713: FutureWarning: Using a non-tuple sequence for multidimensional indexing is deprecated; use `arr[tuple(seq)]` instead of `arr[seq]`. In the future this will be interpreted as an array index, `arr[np.array(seq)]`, which will result either in an error or a different result.\n",
      "  return np.add.reduce(sorted[indexer] * weights, axis=axis) / sumval\n"
     ]
    },
    {
     "data": {
      "image/png": "[encoded data removed]",
      "text/plain": [
       "<Figure size 720x720 with 1 Axes>"
      ]
     },
     "metadata": {},
     "output_type": "display_data"
    }
   ],
   "source": [
    "sns.factorplot(x=\"Native country\",y=\"Income\",data=train,kind=\"bar\", size = 10, \n",
    "palette = \"muted\")\n",
    "plt.xticks(rotation=80);"
   ]
  },
  {
   "cell_type": "code",
   "execution_count": 38,
   "metadata": {
    "collapsed": true
   },
   "outputs": [],
   "source": [
    "def native(country):\n",
    "    if country in [' United-States', ' Cuba', ' 0']:\n",
    "        return 'US'\n",
    "    elif country in [' England', ' Germany', ' Canada', ' Italy', ' France', ' Greece', ' Philippines']:\n",
    "        return 'Western'\n",
    "    elif country in [' Mexico', ' Puerto-Rico', ' Honduras', ' Jamaica', ' Columbia', ' Laos', ' Portugal', ' Haiti',\n",
    "                     ' Dominican-Republic', ' El-Salvador', ' Guatemala', ' Peru', \n",
    "                     ' Trinadad&Tobago', ' Outlying-US(Guam-USVI-etc)', ' Nicaragua', ' Vietnam', ' Holand-Netherlands' ]:\n",
    "        return 'Poor' # no offence\n",
    "    elif country in [' India', ' Iran', ' Cambodia', ' Taiwan', ' Japan', ' Yugoslavia', ' China', ' Hong']:\n",
    "        return 'Eastern'\n",
    "    elif country in [' South', ' Poland', ' Ireland', ' Hungary', ' Scotland', ' Thailand', ' Ecuador']:\n",
    "        return 'Poland team'\n",
    "    \n",
    "    else: \n",
    "        return country "
   ]
  },
  {
   "cell_type": "code",
   "execution_count": 39,
   "metadata": {
    "collapsed": true
   },
   "outputs": [],
   "source": [
    "train['Native country'] = train['Native country'].apply(native)\n",
    "test['Native country'] = test['Native country'].apply(native)"
   ]
  },
  {
   "cell_type": "code",
   "execution_count": 40,
   "metadata": {},
   "outputs": [
    {
     "data": {
      "text/plain": [
       "US             29848\n",
       "Poor            1415\n",
       "Western          677\n",
       "Eastern          386\n",
       "Poland team      235\n",
       "Name: Native country, dtype: int64"
      ]
     },
     "execution_count": 40,
     "metadata": {},
     "output_type": "execute_result"
    }
   ],
   "source": [
    "train['Native country'].value_counts()"
   ]
  },
  {
   "cell_type": "code",
   "execution_count": 41,
   "metadata": {},
   "outputs": [
    {
     "name": "stderr",
     "output_type": "stream",
     "text": [
      "D:\\Anaconda\\lib\\site-packages\\scipy\\stats\\stats.py:1713: FutureWarning: Using a non-tuple sequence for multidimensional indexing is deprecated; use `arr[tuple(seq)]` instead of `arr[seq]`. In the future this will be interpreted as an array index, `arr[np.array(seq)]`, which will result either in an error or a different result.\n",
      "  return np.add.reduce(sorted[indexer] * weights, axis=axis) / sumval\n"
     ]
    },
    {
     "data": {
      "image/png": "[encoded data removed]",
      "text/plain": [
       "<Figure size 360x360 with 1 Axes>"
      ]
     },
     "metadata": {},
     "output_type": "display_data"
    }
   ],
   "source": [
    "sns.factorplot(x=\"Native country\",y=\"Income\",data=train,kind=\"bar\", size = 5, \n",
    "palette = \"muted\")\n",
    "plt.xticks(rotation=60);"
   ]
  },
  {
   "cell_type": "code",
   "execution_count": 42,
   "metadata": {
    "collapsed": true
   },
   "outputs": [],
   "source": [
    "#merge datasets\n",
    "joint = pd.concat([train, test], axis=0)"
   ]
  },
  {
   "cell_type": "code",
   "execution_count": 43,
   "metadata": {},
   "outputs": [
    {
     "data": {
      "text/plain": [
       "Age                 int64\n",
       "Workclass          object\n",
       "fnlgwt            float64\n",
       "Education          object\n",
       "Education num       int64\n",
       "Marital Status     object\n",
       "Occupation         object\n",
       "Relationship       object\n",
       "Race               object\n",
       "Sex                object\n",
       "Capital Gain        int64\n",
       "Capital Loss        int64\n",
       "Hours/Week          int64\n",
       "Native country     object\n",
       "Income              int64\n",
       "dtype: object"
      ]
     },
     "execution_count": 43,
     "metadata": {},
     "output_type": "execute_result"
    }
   ],
   "source": [
    "joint.dtypes"
   ]
  },
  {
   "cell_type": "code",
   "execution_count": 44,
   "metadata": {},
   "outputs": [
    {
     "name": "stdout",
     "output_type": "stream",
     "text": [
      "Workclass 8\n",
      "Education 10\n",
      "Marital Status 6\n",
      "Occupation 14\n",
      "Relationship 6\n",
      "Race 5\n",
      "Sex 2\n",
      "Native country 5\n"
     ]
    }
   ],
   "source": [
    "#list of columns with dtype: object\n",
    "categorical_features = joint.select_dtypes(include=['object']).axes[1]\n",
    "\n",
    "for col in categorical_features:\n",
    "    print (col, joint[col].nunique())"
   ]
  },
  {
   "cell_type": "code",
   "execution_count": 45,
   "metadata": {
    "collapsed": true
   },
   "outputs": [],
   "source": [
    "#one-hot encode\n",
    "for col in categorical_features:\n",
    "    joint = pd.concat([joint, pd.get_dummies(joint[col], prefix=col, prefix_sep=':')], axis=1)\n",
    "    joint.drop(col, axis=1, inplace=True)"
   ]
  },
  {
   "cell_type": "code",
   "execution_count": 46,
   "metadata": {},
   "outputs": [
    {
     "data": {
      "text/html": [
       "<div>\n",
       "<style>\n",
       "    .dataframe thead tr:only-child th {\n",
       "        text-align: right;\n",
       "    }\n",
       "\n",
       "    .dataframe thead th {\n",
       "        text-align: left;\n",
       "    }\n",
       "\n",
       "    .dataframe tbody tr th {\n",
       "        vertical-align: top;\n",
       "    }\n",
       "</style>\n",
       "<table border=\"1\" class=\"dataframe\">\n",
       "  <thead>\n",
       "    <tr style=\"text-align: right;\">\n",
       "      <th></th>\n",
       "      <th>Age</th>\n",
       "      <th>fnlgwt</th>\n",
       "      <th>Education num</th>\n",
       "      <th>Capital Gain</th>\n",
       "      <th>Capital Loss</th>\n",
       "      <th>Hours/Week</th>\n",
       "      <th>Income</th>\n",
       "      <th>Workclass: 0</th>\n",
       "      <th>Workclass: Federal-gov</th>\n",
       "      <th>Workclass: Local-gov</th>\n",
       "      <th>...</th>\n",
       "      <th>Race: Black</th>\n",
       "      <th>Race: Other</th>\n",
       "      <th>Race: White</th>\n",
       "      <th>Sex: Female</th>\n",
       "      <th>Sex: Male</th>\n",
       "      <th>Native country:Eastern</th>\n",
       "      <th>Native country:Poland team</th>\n",
       "      <th>Native country:Poor</th>\n",
       "      <th>Native country:US</th>\n",
       "      <th>Native country:Western</th>\n",
       "    </tr>\n",
       "  </thead>\n",
       "  <tbody>\n",
       "    <tr>\n",
       "      <th>0</th>\n",
       "      <td>39</td>\n",
       "      <td>11.258253</td>\n",
       "      <td>13</td>\n",
       "      <td>2174</td>\n",
       "      <td>0</td>\n",
       "      <td>40</td>\n",
       "      <td>0</td>\n",
       "      <td>0</td>\n",
       "      <td>0</td>\n",
       "      <td>0</td>\n",
       "      <td>...</td>\n",
       "      <td>0</td>\n",
       "      <td>0</td>\n",
       "      <td>1</td>\n",
       "      <td>0</td>\n",
       "      <td>1</td>\n",
       "      <td>0</td>\n",
       "      <td>0</td>\n",
       "      <td>0</td>\n",
       "      <td>1</td>\n",
       "      <td>0</td>\n",
       "    </tr>\n",
       "    <tr>\n",
       "      <th>1</th>\n",
       "      <td>50</td>\n",
       "      <td>11.330348</td>\n",
       "      <td>13</td>\n",
       "      <td>0</td>\n",
       "      <td>0</td>\n",
       "      <td>13</td>\n",
       "      <td>0</td>\n",
       "      <td>0</td>\n",
       "      <td>0</td>\n",
       "      <td>0</td>\n",
       "      <td>...</td>\n",
       "      <td>0</td>\n",
       "      <td>0</td>\n",
       "      <td>1</td>\n",
       "      <td>0</td>\n",
       "      <td>1</td>\n",
       "      <td>0</td>\n",
       "      <td>0</td>\n",
       "      <td>0</td>\n",
       "      <td>1</td>\n",
       "      <td>0</td>\n",
       "    </tr>\n",
       "    <tr>\n",
       "      <th>2</th>\n",
       "      <td>38</td>\n",
       "      <td>12.281398</td>\n",
       "      <td>9</td>\n",
       "      <td>0</td>\n",
       "      <td>0</td>\n",
       "      <td>40</td>\n",
       "      <td>0</td>\n",
       "      <td>0</td>\n",
       "      <td>0</td>\n",
       "      <td>0</td>\n",
       "      <td>...</td>\n",
       "      <td>0</td>\n",
       "      <td>0</td>\n",
       "      <td>1</td>\n",
       "      <td>0</td>\n",
       "      <td>1</td>\n",
       "      <td>0</td>\n",
       "      <td>0</td>\n",
       "      <td>0</td>\n",
       "      <td>1</td>\n",
       "      <td>0</td>\n",
       "    </tr>\n",
       "    <tr>\n",
       "      <th>3</th>\n",
       "      <td>53</td>\n",
       "      <td>12.366157</td>\n",
       "      <td>7</td>\n",
       "      <td>0</td>\n",
       "      <td>0</td>\n",
       "      <td>40</td>\n",
       "      <td>0</td>\n",
       "      <td>0</td>\n",
       "      <td>0</td>\n",
       "      <td>0</td>\n",
       "      <td>...</td>\n",
       "      <td>1</td>\n",
       "      <td>0</td>\n",
       "      <td>0</td>\n",
       "      <td>0</td>\n",
       "      <td>1</td>\n",
       "      <td>0</td>\n",
       "      <td>0</td>\n",
       "      <td>0</td>\n",
       "      <td>1</td>\n",
       "      <td>0</td>\n",
       "    </tr>\n",
       "    <tr>\n",
       "      <th>4</th>\n",
       "      <td>28</td>\n",
       "      <td>12.732013</td>\n",
       "      <td>13</td>\n",
       "      <td>0</td>\n",
       "      <td>0</td>\n",
       "      <td>40</td>\n",
       "      <td>0</td>\n",
       "      <td>0</td>\n",
       "      <td>0</td>\n",
       "      <td>0</td>\n",
       "      <td>...</td>\n",
       "      <td>1</td>\n",
       "      <td>0</td>\n",
       "      <td>0</td>\n",
       "      <td>1</td>\n",
       "      <td>0</td>\n",
       "      <td>0</td>\n",
       "      <td>0</td>\n",
       "      <td>0</td>\n",
       "      <td>1</td>\n",
       "      <td>0</td>\n",
       "    </tr>\n",
       "  </tbody>\n",
       "</table>\n",
       "<p>5 rows × 63 columns</p>\n",
       "</div>"
      ],
      "text/plain": [
       "   Age     fnlgwt  Education num  Capital Gain  Capital Loss  Hours/Week  \\\n",
       "0   39  11.258253             13          2174             0          40   \n",
       "1   50  11.330348             13             0             0          13   \n",
       "2   38  12.281398              9             0             0          40   \n",
       "3   53  12.366157              7             0             0          40   \n",
       "4   28  12.732013             13             0             0          40   \n",
       "\n",
       "   Income  Workclass: 0  Workclass: Federal-gov  Workclass: Local-gov  \\\n",
       "0       0             0                       0                     0   \n",
       "1       0             0                       0                     0   \n",
       "2       0             0                       0                     0   \n",
       "3       0             0                       0                     0   \n",
       "4       0             0                       0                     0   \n",
       "\n",
       "            ...            Race: Black  Race: Other  Race: White  Sex: Female  \\\n",
       "0           ...                      0            0            1            0   \n",
       "1           ...                      0            0            1            0   \n",
       "2           ...                      0            0            1            0   \n",
       "3           ...                      1            0            0            0   \n",
       "4           ...                      1            0            0            1   \n",
       "\n",
       "   Sex: Male  Native country:Eastern  Native country:Poland team  \\\n",
       "0          1                       0                           0   \n",
       "1          1                       0                           0   \n",
       "2          1                       0                           0   \n",
       "3          1                       0                           0   \n",
       "4          0                       0                           0   \n",
       "\n",
       "   Native country:Poor  Native country:US  Native country:Western  \n",
       "0                    0                  1                       0  \n",
       "1                    0                  1                       0  \n",
       "2                    0                  1                       0  \n",
       "3                    0                  1                       0  \n",
       "4                    0                  1                       0  \n",
       "\n",
       "[5 rows x 63 columns]"
      ]
     },
     "execution_count": 46,
     "metadata": {},
     "output_type": "execute_result"
    }
   ],
   "source": [
    "joint.head()"
   ]
  },
  {
   "cell_type": "code",
   "execution_count": 47,
   "metadata": {
    "collapsed": true
   },
   "outputs": [],
   "source": [
    "train = joint.head(train.shape[0])\n",
    "test = joint.tail(test.shape[0])"
   ]
  },
  {
   "cell_type": "code",
   "execution_count": 48,
   "metadata": {
    "collapsed": true
   },
   "outputs": [],
   "source": [
    "Xtrain = train.drop('Income', axis=1)\n",
    "Ttrain = train['Income']\n",
    "\n",
    "Xtest = test.drop('Income', axis=1)\n",
    "Ttest = test['Income']\n",
    "\n",
    "scaler = StandardScaler()\n",
    "scaler.fit(Xtrain)\n",
    "Xtrain = scaler.transform(Xtrain)\n",
    "Xtest = scaler.transform(Xtest)"
   ]
  },
  {
   "cell_type": "code",
   "execution_count": 49,
   "metadata": {},
   "outputs": [
    {
     "name": "stderr",
     "output_type": "stream",
     "text": [
      "D:\\Anaconda\\lib\\site-packages\\sklearn\\ensemble\\weight_boosting.py:29: DeprecationWarning: numpy.core.umath_tests is an internal NumPy module and should not be imported. It will be removed in a future NumPy release.\n",
      "  from numpy.core.umath_tests import inner1d\n",
      "D:\\Anaconda\\lib\\site-packages\\sklearn\\cross_validation.py:41: DeprecationWarning: This module was deprecated in version 0.18 in favor of the model_selection module into which all the refactored classes and functions are moved. Also note that the interface of the new CV iterators are different from that of this module. This module will be removed in 0.20.\n",
      "  \"This module will be removed in 0.20.\", DeprecationWarning)\n",
      "D:\\Anaconda\\lib\\site-packages\\sklearn\\grid_search.py:42: DeprecationWarning: This module was deprecated in version 0.18 in favor of the model_selection module into which all the refactored classes and functions are moved. This module will be removed in 0.20.\n",
      "  DeprecationWarning)\n"
     ]
    },
    {
     "name": "stdout",
     "output_type": "stream",
     "text": [
      "Accuracy: 0.8694\n",
      "AUC Score(train): 0.925900\n"
     ]
    }
   ],
   "source": [
    "from sklearn.ensemble import GradientBoostingClassifier\n",
    "from sklearn import cross_validation, metrics\n",
    "from sklearn.grid_search import GridSearchCV\n",
    "import matplotlib.pylab as plt\n",
    "gbm0 = GradientBoostingClassifier(random_state=10)\n",
    "gbm0.fit(Xtrain, Ttrain)\n",
    "y_pred = gbm0.predict(Xtrain)\n",
    "y_predprob = gbm0.predict_proba(Xtrain)[:,1]\n",
    "print('Accuracy: %.4g' % metrics.accuracy_score(Ttrain, y_pred))\n",
    "print('AUC Score(train): %f' % metrics.roc_auc_score(Ttrain, y_predprob))"
   ]
  },
  {
   "cell_type": "code",
   "execution_count": 50,
   "metadata": {
    "collapsed": true
   },
   "outputs": [],
   "source": [
    "# 1: learning rate n_estimators"
   ]
  },
  {
   "cell_type": "code",
   "execution_count": 51,
   "metadata": {
    "collapsed": true
   },
   "outputs": [],
   "source": [
    "X=Xtrain\n",
    "y=Ttrain"
   ]
  },
  {
   "cell_type": "code",
   "execution_count": 52,
   "metadata": {},
   "outputs": [
    {
     "data": {
      "text/plain": [
       "([mean: 0.92265, std: 0.00263, params: {'n_estimators': 80},\n",
       "  mean: 0.92335, std: 0.00273, params: {'n_estimators': 90},\n",
       "  mean: 0.92373, std: 0.00281, params: {'n_estimators': 100},\n",
       "  mean: 0.92409, std: 0.00271, params: {'n_estimators': 110},\n",
       "  mean: 0.92420, std: 0.00271, params: {'n_estimators': 120},\n",
       "  mean: 0.92449, std: 0.00264, params: {'n_estimators': 130},\n",
       "  mean: 0.92476, std: 0.00261, params: {'n_estimators': 140}],\n",
       " {'n_estimators': 140},\n",
       " 0.9247599427551059)"
      ]
     },
     "execution_count": 52,
     "metadata": {},
     "output_type": "execute_result"
    }
   ],
   "source": [
    "param_test1 = {'n_estimators':np.arange(80,150,10)}\n",
    "gsearch1 = GridSearchCV(estimator = GradientBoostingClassifier(learning_rate=0.1, min_samples_split=300,\n",
    "                                  min_samples_leaf=20,max_depth=8,max_features='sqrt', subsample=0.8,random_state=10), \n",
    "                       param_grid = param_test1, scoring='roc_auc',iid=False,cv=5)\n",
    "gsearch1.fit(X,y)\n",
    "gsearch1.grid_scores_, gsearch1.best_params_, gsearch1.best_score_"
   ]
  },
  {
   "cell_type": "code",
   "execution_count": null,
   "metadata": {
    "collapsed": true
   },
   "outputs": [],
   "source": [
    "#  {'n_estimators': 140}, 0.9247599427551059)\n",
    "# 2：max_depth & min_sample_split"
   ]
  },
  {
   "cell_type": "code",
   "execution_count": 54,
   "metadata": {},
   "outputs": [
    {
     "data": {
      "text/plain": [
       "([mean: 0.92543, std: 0.00301, params: {'max_depth': 12, 'min_samples_split': 600},\n",
       "  mean: 0.92538, std: 0.00264, params: {'max_depth': 12, 'min_samples_split': 700},\n",
       "  mean: 0.92562, std: 0.00284, params: {'max_depth': 12, 'min_samples_split': 800},\n",
       "  mean: 0.92519, std: 0.00269, params: {'max_depth': 13, 'min_samples_split': 600},\n",
       "  mean: 0.92559, std: 0.00254, params: {'max_depth': 13, 'min_samples_split': 700},\n",
       "  mean: 0.92561, std: 0.00276, params: {'max_depth': 13, 'min_samples_split': 800},\n",
       "  mean: 0.92488, std: 0.00262, params: {'max_depth': 14, 'min_samples_split': 600},\n",
       "  mean: 0.92524, std: 0.00246, params: {'max_depth': 14, 'min_samples_split': 700},\n",
       "  mean: 0.92530, std: 0.00287, params: {'max_depth': 14, 'min_samples_split': 800},\n",
       "  mean: 0.92533, std: 0.00215, params: {'max_depth': 15, 'min_samples_split': 600},\n",
       "  mean: 0.92496, std: 0.00234, params: {'max_depth': 15, 'min_samples_split': 700},\n",
       "  mean: 0.92542, std: 0.00244, params: {'max_depth': 15, 'min_samples_split': 800},\n",
       "  mean: 0.92517, std: 0.00275, params: {'max_depth': 16, 'min_samples_split': 600},\n",
       "  mean: 0.92529, std: 0.00237, params: {'max_depth': 16, 'min_samples_split': 700},\n",
       "  mean: 0.92504, std: 0.00257, params: {'max_depth': 16, 'min_samples_split': 800},\n",
       "  mean: 0.92527, std: 0.00242, params: {'max_depth': 17, 'min_samples_split': 600},\n",
       "  mean: 0.92514, std: 0.00258, params: {'max_depth': 17, 'min_samples_split': 700},\n",
       "  mean: 0.92515, std: 0.00271, params: {'max_depth': 17, 'min_samples_split': 800}],\n",
       " {'max_depth': 12, 'min_samples_split': 800},\n",
       " 0.9256194536602511)"
      ]
     },
     "execution_count": 54,
     "metadata": {},
     "output_type": "execute_result"
    }
   ],
   "source": [
    "param_test2 = {'max_depth':np.arange(12,18,1), 'min_samples_split':np.arange(600,900,100)}\n",
    "gsearch2 = GridSearchCV(estimator = GradientBoostingClassifier(learning_rate=0.1, n_estimators=140, min_samples_leaf=20, \n",
    "      max_features='sqrt', subsample=0.8, random_state=10), \n",
    "   param_grid = param_test2, scoring='roc_auc',iid=False, cv=5)\n",
    "gsearch2.fit(X,y)\n",
    "gsearch2.grid_scores_, gsearch2.best_params_, gsearch2.best_score_"
   ]
  },
  {
   "cell_type": "code",
   "execution_count": null,
   "metadata": {
    "collapsed": true
   },
   "outputs": [],
   "source": [
    "#  {'max_depth': 12, 'min_samples_split': 800(not decided now)}, 0.9256194536602511)\n",
    "# 3:min_sample_split & min_samples_leaf "
   ]
  },
  {
   "cell_type": "code",
   "execution_count": 57,
   "metadata": {},
   "outputs": [
    {
     "data": {
      "text/plain": [
       "([mean: 0.92562, std: 0.00284, params: {'min_samples_split': 800, 'min_samples_leaf': 20},\n",
       "  mean: 0.92573, std: 0.00314, params: {'min_samples_split': 1000, 'min_samples_leaf': 20},\n",
       "  mean: 0.92562, std: 0.00279, params: {'min_samples_split': 1200, 'min_samples_leaf': 20},\n",
       "  mean: 0.92538, std: 0.00299, params: {'min_samples_split': 1400, 'min_samples_leaf': 20},\n",
       "  mean: 0.92551, std: 0.00278, params: {'min_samples_split': 1600, 'min_samples_leaf': 20},\n",
       "  mean: 0.92563, std: 0.00283, params: {'min_samples_split': 1800, 'min_samples_leaf': 20},\n",
       "  mean: 0.92575, std: 0.00300, params: {'min_samples_split': 2000, 'min_samples_leaf': 20},\n",
       "  mean: 0.92529, std: 0.00263, params: {'min_samples_split': 800, 'min_samples_leaf': 30},\n",
       "  mean: 0.92515, std: 0.00291, params: {'min_samples_split': 1000, 'min_samples_leaf': 30},\n",
       "  mean: 0.92574, std: 0.00291, params: {'min_samples_split': 1200, 'min_samples_leaf': 30},\n",
       "  mean: 0.92491, std: 0.00269, params: {'min_samples_split': 1400, 'min_samples_leaf': 30},\n",
       "  mean: 0.92549, std: 0.00307, params: {'min_samples_split': 1600, 'min_samples_leaf': 30},\n",
       "  mean: 0.92578, std: 0.00287, params: {'min_samples_split': 1800, 'min_samples_leaf': 30},\n",
       "  mean: 0.92513, std: 0.00299, params: {'min_samples_split': 2000, 'min_samples_leaf': 30},\n",
       "  mean: 0.92504, std: 0.00299, params: {'min_samples_split': 800, 'min_samples_leaf': 40},\n",
       "  mean: 0.92526, std: 0.00264, params: {'min_samples_split': 1000, 'min_samples_leaf': 40},\n",
       "  mean: 0.92528, std: 0.00261, params: {'min_samples_split': 1200, 'min_samples_leaf': 40},\n",
       "  mean: 0.92503, std: 0.00289, params: {'min_samples_split': 1400, 'min_samples_leaf': 40},\n",
       "  mean: 0.92530, std: 0.00300, params: {'min_samples_split': 1600, 'min_samples_leaf': 40},\n",
       "  mean: 0.92533, std: 0.00315, params: {'min_samples_split': 1800, 'min_samples_leaf': 40},\n",
       "  mean: 0.92520, std: 0.00286, params: {'min_samples_split': 2000, 'min_samples_leaf': 40},\n",
       "  mean: 0.92493, std: 0.00270, params: {'min_samples_split': 800, 'min_samples_leaf': 50},\n",
       "  mean: 0.92491, std: 0.00286, params: {'min_samples_split': 1000, 'min_samples_leaf': 50},\n",
       "  mean: 0.92506, std: 0.00263, params: {'min_samples_split': 1200, 'min_samples_leaf': 50},\n",
       "  mean: 0.92516, std: 0.00283, params: {'min_samples_split': 1400, 'min_samples_leaf': 50},\n",
       "  mean: 0.92493, std: 0.00281, params: {'min_samples_split': 1600, 'min_samples_leaf': 50},\n",
       "  mean: 0.92476, std: 0.00294, params: {'min_samples_split': 1800, 'min_samples_leaf': 50},\n",
       "  mean: 0.92516, std: 0.00280, params: {'min_samples_split': 2000, 'min_samples_leaf': 50}],\n",
       " {'min_samples_leaf': 30, 'min_samples_split': 1800},\n",
       " 0.925780242928602)"
      ]
     },
     "execution_count": 57,
     "metadata": {},
     "output_type": "execute_result"
    }
   ],
   "source": [
    "param_test3 = {'min_samples_split':np.arange(800,2001,200), 'min_samples_leaf':np.arange(20,60,10)}\n",
    "gsearch3 = GridSearchCV(estimator = GradientBoostingClassifier(learning_rate=0.1, n_estimators=140,max_depth=12,\n",
    "                                     max_features='sqrt', subsample=0.8, random_state=10), \n",
    "                       param_grid = param_test3, scoring='roc_auc',iid=False, cv=5)\n",
    "gsearch3.fit(X,y)\n",
    "gsearch3.grid_scores_, gsearch3.best_params_, gsearch3.best_score_"
   ]
  },
  {
   "cell_type": "code",
   "execution_count": null,
   "metadata": {
    "collapsed": true
   },
   "outputs": [],
   "source": [
    "#  {'min_samples_leaf': 30, 'min_samples_split': 1800},0.925780242928602)\n",
    "# now we can look the result first"
   ]
  },
  {
   "cell_type": "code",
   "execution_count": 59,
   "metadata": {},
   "outputs": [
    {
     "name": "stdout",
     "output_type": "stream",
     "text": [
      "Accuracy : 0.8809\n",
      "AUC Score (Train): 0.937353\n"
     ]
    }
   ],
   "source": [
    "gbm1 = GradientBoostingClassifier(learning_rate=0.1, n_estimators=140,max_depth=12, min_samples_leaf =30, \n",
    "               min_samples_split =1800, max_features='sqrt', subsample=0.8, random_state=10)\n",
    "gbm1.fit(X,y)\n",
    "y_pred = gbm1.predict(X)\n",
    "y_predprob = gbm1.predict_proba(X)[:,1]\n",
    "print(\"Accuracy : %.4g\" % metrics.accuracy_score(y.values, y_pred))\n",
    "print(\"AUC Score (Train): %f\" % metrics.roc_auc_score(y, y_predprob))"
   ]
  },
  {
   "cell_type": "code",
   "execution_count": 60,
   "metadata": {
    "collapsed": true
   },
   "outputs": [],
   "source": [
    "# 4:max_features"
   ]
  },
  {
   "cell_type": "code",
   "execution_count": 65,
   "metadata": {},
   "outputs": [
    {
     "data": {
      "text/plain": [
       "([mean: 0.92755, std: 0.00235, params: {'max_features': 34},\n",
       "  mean: 0.92763, std: 0.00196, params: {'max_features': 36},\n",
       "  mean: 0.92777, std: 0.00213, params: {'max_features': 38},\n",
       "  mean: 0.92730, std: 0.00246, params: {'max_features': 40},\n",
       "  mean: 0.92732, std: 0.00238, params: {'max_features': 42},\n",
       "  mean: 0.92751, std: 0.00220, params: {'max_features': 44},\n",
       "  mean: 0.92737, std: 0.00220, params: {'max_features': 46},\n",
       "  mean: 0.92732, std: 0.00242, params: {'max_features': 48}],\n",
       " {'max_features': 38},\n",
       " 0.9277711615607348)"
      ]
     },
     "execution_count": 65,
     "metadata": {},
     "output_type": "execute_result"
    }
   ],
   "source": [
    "param_test4 = {'max_features':np.arange(34,50,2)}\n",
    "gsearch4 = GridSearchCV(estimator = GradientBoostingClassifier(learning_rate=0.1, n_estimators=140,max_depth=12, min_samples_leaf =30, \n",
    "               min_samples_split =1800, subsample=0.8, random_state=10), \n",
    "                       param_grid = param_test4, scoring='roc_auc',iid=False, cv=5)\n",
    "gsearch4.fit(X,y)\n",
    "gsearch4.grid_scores_, gsearch4.best_params_, gsearch4.best_score_"
   ]
  },
  {
   "cell_type": "code",
   "execution_count": 64,
   "metadata": {
    "collapsed": true
   },
   "outputs": [],
   "source": [
    "# {'max_features': 38},0.9277711615607348)\n",
    "# 5:subsample"
   ]
  },
  {
   "cell_type": "code",
   "execution_count": 66,
   "metadata": {},
   "outputs": [
    {
     "data": {
      "text/plain": [
       "([mean: 0.92609, std: 0.00247, params: {'subsample': 0.6},\n",
       "  mean: 0.92689, std: 0.00215, params: {'subsample': 0.7},\n",
       "  mean: 0.92703, std: 0.00240, params: {'subsample': 0.75},\n",
       "  mean: 0.92777, std: 0.00213, params: {'subsample': 0.8},\n",
       "  mean: 0.92765, std: 0.00231, params: {'subsample': 0.85},\n",
       "  mean: 0.92803, std: 0.00203, params: {'subsample': 0.9},\n",
       "  mean: 0.92867, std: 0.00194, params: {'subsample': 1.0}],\n",
       " {'subsample': 1.0},\n",
       " 0.9286666310283163)"
      ]
     },
     "execution_count": 66,
     "metadata": {},
     "output_type": "execute_result"
    }
   ],
   "source": [
    "param_test5 = {'subsample':[0.6,0.7,0.75,0.8,0.85,0.9,1.0]}\n",
    "gsearch5 = GridSearchCV(estimator = GradientBoostingClassifier(learning_rate=0.1, n_estimators=140,max_depth=12, min_samples_leaf =30, \n",
    "               min_samples_split =1800, max_features=38, random_state=10), \n",
    "                       param_grid = param_test5, scoring='roc_auc',iid=False, cv=5)\n",
    "gsearch5.fit(X,y)\n",
    "gsearch5.grid_scores_, gsearch5.best_params_, gsearch5.best_score_"
   ]
  },
  {
   "cell_type": "code",
   "execution_count": 67,
   "metadata": {
    "collapsed": true
   },
   "outputs": [],
   "source": [
    "#  {'subsample': 1.0},0.9286666310283163)\n",
    "# 6: slow down the learning rate"
   ]
  },
  {
   "cell_type": "code",
   "execution_count": 69,
   "metadata": {},
   "outputs": [
    {
     "name": "stdout",
     "output_type": "stream",
     "text": [
      "Accuracy : 0.8888\n",
      "AUC Score (Train): 0.944528\n"
     ]
    }
   ],
   "source": [
    "gbm2 = GradientBoostingClassifier(learning_rate=0.1, n_estimators=140,max_depth=12, min_samples_leaf =30, \n",
    "               min_samples_split =1800, max_features=38, subsample=1.0, random_state=10)\n",
    "gbm2.fit(X,y)\n",
    "y_pred = gbm2.predict(X)\n",
    "y_predprob = gbm2.predict_proba(X)[:,1]\n",
    "print (\"Accuracy : %.4g\" % metrics.accuracy_score(y.values, y_pred))\n",
    "print (\"AUC Score (Train): %f\" % metrics.roc_auc_score(y, y_predprob))"
   ]
  },
  {
   "cell_type": "code",
   "execution_count": 70,
   "metadata": {},
   "outputs": [
    {
     "name": "stdout",
     "output_type": "stream",
     "text": [
      "Accuracy : 0.8741\n"
     ]
    }
   ],
   "source": [
    "test_pred = gbm2.predict(Xtest)\n",
    "print (\"Accuracy : %.4g\" % metrics.accuracy_score(Ttest, test_pred))"
   ]
  },
  {
   "cell_type": "code",
   "execution_count": 71,
   "metadata": {
    "collapsed": true
   },
   "outputs": [],
   "source": [
    "# now the highest accuracy is 0.8741"
   ]
  },
  {
   "cell_type": "code",
   "execution_count": null,
   "metadata": {
    "collapsed": true
   },
   "outputs": [],
   "source": []
  },
  {
   "cell_type": "code",
   "execution_count": null,
   "metadata": {
    "collapsed": true
   },
   "outputs": [],
   "source": []
  },
  {
   "cell_type": "code",
   "execution_count": null,
   "metadata": {
    "collapsed": true
   },
   "outputs": [],
   "source": [
    "# logistic regression data prediction"
   ]
  },
  {
   "cell_type": "code",
   "execution_count": 52,
   "metadata": {
    "collapsed": true
   },
   "outputs": [],
   "source": [
    "Xtrain_logis = Xtrain.copy()\n",
    "Ttrain_logis = Ttrain.copy()\n",
    "Xtest_logis = Xtest.copy()\n",
    "Ttest_logis = Ttest.copy()"
   ]
  },
  {
   "cell_type": "code",
   "execution_count": 53,
   "metadata": {
    "collapsed": true
   },
   "outputs": [],
   "source": [
    "from sklearn.linear_model import LogisticRegression\n",
    "from sklearn.metrics import classification_report"
   ]
  },
  {
   "cell_type": "code",
   "execution_count": 54,
   "metadata": {},
   "outputs": [
    {
     "name": "stdout",
     "output_type": "stream",
     "text": [
      "traing accuracy: 0.8528607843739443\n",
      "testing accuracy 0.8531416989128432\n"
     ]
    }
   ],
   "source": [
    "model = LogisticRegression()\n",
    "model.fit(Xtrain_logis, Ttrain_logis)\n",
    "\n",
    "print('traing accuracy:', model.score(Xtrain_logis, Ttrain_logis))\n",
    "print('testing accuracy', model.score(Xtest_logis, Ttest_logis))"
   ]
  },
  {
   "cell_type": "code",
   "execution_count": 55,
   "metadata": {
    "collapsed": true
   },
   "outputs": [],
   "source": [
    "# Adaboost"
   ]
  },
  {
   "cell_type": "code",
   "execution_count": 91,
   "metadata": {},
   "outputs": [
    {
     "name": "stdout",
     "output_type": "stream",
     "text": [
      "traing accuracy: 0.8655753815914745\n",
      "testing accuracy 0.863276211534918\n"
     ]
    }
   ],
   "source": [
    "from sklearn.ensemble import AdaBoostClassifier\n",
    "ada = AdaBoostClassifier(n_estimators=100).fit(Xtrain, Ttrain)\n",
    "print('traing accuracy:', ada.score(Xtrain, Ttrain))\n",
    "print('testing accuracy', ada.score(Xtest, Ttest))"
   ]
  },
  {
   "cell_type": "code",
   "execution_count": null,
   "metadata": {
    "collapsed": true
   },
   "outputs": [],
   "source": [
    "# GBRT"
   ]
  },
  {
   "cell_type": "code",
   "execution_count": 94,
   "metadata": {},
   "outputs": [
    {
     "name": "stdout",
     "output_type": "stream",
     "text": [
      "Accuracy: 0.8694\n",
      "AUC Score(train): 0.925900\n"
     ]
    }
   ],
   "source": [
    "from sklearn.ensemble import GradientBoostingClassifier\n",
    "from sklearn import cross_validation, metrics\n",
    "from sklearn.grid_search import GridSearchCV\n",
    "import matplotlib.pylab as plt\n",
    "gbm0 = GradientBoostingClassifier(random_state=10)\n",
    "gbm0.fit(Xtrain, Ttrain)\n",
    "y_pred = gbm0.predict(Xtrain)\n",
    "y_predprob = gbm0.predict_proba(Xtrain)[:,1]\n",
    "print('Accuracy: %.4g' % metrics.accuracy_score(Ttrain, y_pred))\n",
    "print('AUC Score(train): %f' % metrics.roc_auc_score(Ttrain, y_predprob))\n",
    "\n",
    "#overfitting\n"
   ]
  },
  {
   "cell_type": "code",
   "execution_count": 95,
   "metadata": {
    "collapsed": true
   },
   "outputs": [],
   "source": [
    "# 1: learning rate n_estimators"
   ]
  },
  {
   "cell_type": "code",
   "execution_count": 97,
   "metadata": {
    "collapsed": true
   },
   "outputs": [],
   "source": [
    "X=Xtrain\n",
    "y=Ttrain"
   ]
  },
  {
   "cell_type": "code",
   "execution_count": 104,
   "metadata": {},
   "outputs": [
    {
     "data": {
      "text/plain": [
       "([mean: 0.92420, std: 0.00271, params: {'n_estimators': 120},\n",
       "  mean: 0.92449, std: 0.00264, params: {'n_estimators': 130},\n",
       "  mean: 0.92476, std: 0.00261, params: {'n_estimators': 140},\n",
       "  mean: 0.92474, std: 0.00263, params: {'n_estimators': 150},\n",
       "  mean: 0.92491, std: 0.00259, params: {'n_estimators': 160},\n",
       "  mean: 0.92511, std: 0.00249, params: {'n_estimators': 170}],\n",
       " {'n_estimators': 170},\n",
       " 0.9251066300929432)"
      ]
     },
     "execution_count": 104,
     "metadata": {},
     "output_type": "execute_result"
    }
   ],
   "source": [
    "param_test1 = {'n_estimators':np.arange(80,150,10)}\n",
    "gsearch1 = GridSearchCV(estimator = GradientBoostingClassifier(learning_rate=0.1, min_samples_split=300,\n",
    "                                  min_samples_leaf=20,max_depth=8,max_features='sqrt', subsample=0.8,random_state=10), \n",
    "                       param_grid = param_test1, scoring='roc_auc',iid=False,cv=5)\n",
    "gsearch1.fit(X,y)\n",
    "gsearch1.grid_scores_, gsearch1.best_params_, gsearch1.best_score_"
   ]
  },
  {
   "cell_type": "code",
   "execution_count": 105,
   "metadata": {},
   "outputs": [
    {
     "data": {
      "text/plain": [
       "([mean: 0.91781, std: 0.00297, params: {'max_depth': 3, 'min_samples_split': 100},\n",
       "  mean: 0.91765, std: 0.00313, params: {'max_depth': 3, 'min_samples_split': 300},\n",
       "  mean: 0.91750, std: 0.00293, params: {'max_depth': 3, 'min_samples_split': 500},\n",
       "  mean: 0.91756, std: 0.00288, params: {'max_depth': 3, 'min_samples_split': 700},\n",
       "  mean: 0.92202, std: 0.00321, params: {'max_depth': 5, 'min_samples_split': 100},\n",
       "  mean: 0.92145, std: 0.00316, params: {'max_depth': 5, 'min_samples_split': 300},\n",
       "  mean: 0.92141, std: 0.00321, params: {'max_depth': 5, 'min_samples_split': 500},\n",
       "  mean: 0.92110, std: 0.00313, params: {'max_depth': 5, 'min_samples_split': 700},\n",
       "  mean: 0.92348, std: 0.00274, params: {'max_depth': 7, 'min_samples_split': 100},\n",
       "  mean: 0.92392, std: 0.00285, params: {'max_depth': 7, 'min_samples_split': 300},\n",
       "  mean: 0.92323, std: 0.00246, params: {'max_depth': 7, 'min_samples_split': 500},\n",
       "  mean: 0.92318, std: 0.00247, params: {'max_depth': 7, 'min_samples_split': 700},\n",
       "  mean: 0.92417, std: 0.00222, params: {'max_depth': 9, 'min_samples_split': 100},\n",
       "  mean: 0.92456, std: 0.00270, params: {'max_depth': 9, 'min_samples_split': 300},\n",
       "  mean: 0.92426, std: 0.00226, params: {'max_depth': 9, 'min_samples_split': 500},\n",
       "  mean: 0.92445, std: 0.00285, params: {'max_depth': 9, 'min_samples_split': 700},\n",
       "  mean: 0.92428, std: 0.00271, params: {'max_depth': 11, 'min_samples_split': 100},\n",
       "  mean: 0.92467, std: 0.00280, params: {'max_depth': 11, 'min_samples_split': 300},\n",
       "  mean: 0.92479, std: 0.00239, params: {'max_depth': 11, 'min_samples_split': 500},\n",
       "  mean: 0.92476, std: 0.00272, params: {'max_depth': 11, 'min_samples_split': 700},\n",
       "  mean: 0.92364, std: 0.00228, params: {'max_depth': 13, 'min_samples_split': 100},\n",
       "  mean: 0.92404, std: 0.00253, params: {'max_depth': 13, 'min_samples_split': 300},\n",
       "  mean: 0.92490, std: 0.00248, params: {'max_depth': 13, 'min_samples_split': 500},\n",
       "  mean: 0.92528, std: 0.00281, params: {'max_depth': 13, 'min_samples_split': 700}],\n",
       " {'max_depth': 13, 'min_samples_split': 700},\n",
       " 0.9252813251302954)"
      ]
     },
     "execution_count": 105,
     "metadata": {},
     "output_type": "execute_result"
    }
   ],
   "source": [
    "param_test2 = {'max_depth':np.arange(3,14,2), 'min_samples_split':np.arange(100,801,200)}\n",
    "gsearch2 = GridSearchCV(estimator = GradientBoostingClassifier(learning_rate=0.1, n_estimators=120, min_samples_leaf=20, \n",
    "      max_features='sqrt', subsample=0.8, random_state=10), \n",
    "   param_grid = param_test2, scoring='roc_auc',iid=False, cv=5)\n",
    "gsearch2.fit(X,y)\n",
    "gsearch2.grid_scores_, gsearch2.best_params_, gsearch2.best_score_"
   ]
  },
  {
   "cell_type": "code",
   "execution_count": null,
   "metadata": {
    "collapsed": true
   },
   "outputs": [],
   "source": []
  },
  {
   "cell_type": "code",
   "execution_count": 58,
   "metadata": {
    "collapsed": true
   },
   "outputs": [],
   "source": [
    "# bagging"
   ]
  },
  {
   "cell_type": "code",
   "execution_count": 68,
   "metadata": {},
   "outputs": [
    {
     "name": "stdout",
     "output_type": "stream",
     "text": [
      "traing accuracy: 0.8529529191363902\n",
      "testing accuracy 0.8540015969535041\n"
     ]
    }
   ],
   "source": [
    "from sklearn.ensemble import BaggingClassifier\n",
    "from sklearn.linear_model import LogisticRegression\n",
    "bagging = BaggingClassifier(LogisticRegression(), max_samples=0.9, max_features=0.9).fit(Xtrain, Ttrain)\n",
    "print('traing accuracy:', bagging.score(Xtrain, Ttrain))\n",
    "print('testing accuracy', bagging.score(Xtest, Ttest))\n",
    "# compared to logistic, there is no evident improvement"
   ]
  },
  {
   "cell_type": "code",
   "execution_count": 61,
   "metadata": {
    "collapsed": true
   },
   "outputs": [],
   "source": [
    "# random forest"
   ]
  },
  {
   "cell_type": "code",
   "execution_count": 78,
   "metadata": {},
   "outputs": [
    {
     "name": "stdout",
     "output_type": "stream",
     "text": [
      "traing accuracy: 0.908694450416142\n",
      "testing accuracy 0.865118850193477\n"
     ]
    }
   ],
   "source": [
    "from sklearn.ensemble import RandomForestClassifier\n",
    "random_1 = RandomForestClassifier(n_estimators=20, max_depth=None, min_samples_split=20, random_state=0).fit(Xtrain, Ttrain)\n",
    "print('traing accuracy:', random_1.score(Xtrain, Ttrain))\n",
    "print('testing accuracy', random_1.score(Xtest, Ttest))\n",
    "# some overfitting"
   ]
  },
  {
   "cell_type": "code",
   "execution_count": 76,
   "metadata": {
    "collapsed": true
   },
   "outputs": [],
   "source": [
    "# extreme forest"
   ]
  },
  {
   "cell_type": "code",
   "execution_count": 79,
   "metadata": {},
   "outputs": [
    {
     "name": "stdout",
     "output_type": "stream",
     "text": [
      "traing accuracy: 0.9019071895826295\n",
      "testing accuracy 0.849640685461581\n"
     ]
    }
   ],
   "source": [
    "from sklearn.ensemble import ExtraTreesClassifier\n",
    "extra = ExtraTreesClassifier(n_estimators=20, max_depth=None, min_samples_split=20, random_state=0).fit(Xtrain, Ttrain)\n",
    "print('traing accuracy:', extra.score(Xtrain, Ttrain))\n",
    "print('testing accuracy', extra.score(Xtest, Ttest))"
   ]
  },
  {
   "cell_type": "code",
   "execution_count": null,
   "metadata": {
    "collapsed": true
   },
   "outputs": [],
   "source": []
  }
 ],
 "metadata": {
  "kernelspec": {
   "display_name": "Python 3",
   "language": "python",
   "name": "python3"
  },
  "language_info": {
   "codemirror_mode": {
    "name": "ipython",
    "version": 3
   },
   "file_extension": ".py",
   "mimetype": "text/x-python",
   "name": "python",
   "nbconvert_exporter": "python",
   "pygments_lexer": "ipython3",
   "version": "3.5.4"
  }
 },
 "nbformat": 4,
 "nbformat_minor": 2
}
