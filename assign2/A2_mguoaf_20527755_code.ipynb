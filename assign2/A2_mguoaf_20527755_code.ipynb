{
 "cells": [
  {
   "cell_type": "markdown",
   "metadata": {},
   "source": [
    "# prediction task to determine whether a person makes over 50K a yeay"
   ]
  },
  {
   "cell_type": "markdown",
   "metadata": {},
   "source": [
    "### 2.1 import needing package"
   ]
  },
  {
   "cell_type": "code",
   "execution_count": 1,
   "metadata": {
    "collapsed": true
   },
   "outputs": [],
   "source": [
    "import numpy as np\n",
    "import pandas as pd\n",
    "import matplotlib as mpl\n",
    "import matplotlib.pyplot as plt\n",
    "import seaborn as sns\n",
    "from sklearn.preprocessing import StandardScaler"
   ]
  },
  {
   "cell_type": "markdown",
   "metadata": {},
   "source": [
    "### 2.2 load the data from .csv and merge the train_x and train_y to train"
   ]
  },
  {
   "cell_type": "code",
   "execution_count": 2,
   "metadata": {
    "collapsed": true
   },
   "outputs": [],
   "source": [
    "train_x = pd.read_csv('trainFeatures.csv')\n",
    "train_y_column = ['income']\n",
    "train_y = pd.read_csv('trainLabels.csv', header=None, names=train_y_column)\n",
    "train = pd.concat([train_x, train_y], axis=1)\n",
    "test_x = pd.read_csv('testFeatures.csv')\n",
    "train_column = list(train.columns.values)\n",
    "test_column = list(test_x.columns.values)"
   ]
  },
  {
   "cell_type": "markdown",
   "metadata": {},
   "source": [
    "### 2.3 now we have train|text_x, we explore some information about the df and the attribute"
   ]
  },
  {
   "cell_type": "code",
   "execution_count": 3,
   "metadata": {},
   "outputs": [
    {
     "data": {
      "text/html": [
       "<div>\n",
       "<style>\n",
       "    .dataframe thead tr:only-child th {\n",
       "        text-align: right;\n",
       "    }\n",
       "\n",
       "    .dataframe thead th {\n",
       "        text-align: left;\n",
       "    }\n",
       "\n",
       "    .dataframe tbody tr th {\n",
       "        vertical-align: top;\n",
       "    }\n",
       "</style>\n",
       "<table border=\"1\" class=\"dataframe\">\n",
       "  <thead>\n",
       "    <tr style=\"text-align: right;\">\n",
       "      <th></th>\n",
       "      <th>age</th>\n",
       "      <th>workclass</th>\n",
       "      <th>fnlwgt</th>\n",
       "      <th>education</th>\n",
       "      <th>education-num</th>\n",
       "      <th>Marital-status</th>\n",
       "      <th>occupation</th>\n",
       "      <th>relationship</th>\n",
       "      <th>race</th>\n",
       "      <th>sex</th>\n",
       "      <th>capital-gain</th>\n",
       "      <th>capital-loss</th>\n",
       "      <th>hours-per-week</th>\n",
       "      <th>native-country</th>\n",
       "      <th>income</th>\n",
       "    </tr>\n",
       "  </thead>\n",
       "  <tbody>\n",
       "    <tr>\n",
       "      <th>0</th>\n",
       "      <td>24</td>\n",
       "      <td>Private</td>\n",
       "      <td>258298</td>\n",
       "      <td>Assoc-voc</td>\n",
       "      <td>11</td>\n",
       "      <td>Never-married</td>\n",
       "      <td>Tech-support</td>\n",
       "      <td>Not-in-family</td>\n",
       "      <td>White</td>\n",
       "      <td>Male</td>\n",
       "      <td>0</td>\n",
       "      <td>0</td>\n",
       "      <td>45</td>\n",
       "      <td>United-States</td>\n",
       "      <td>0</td>\n",
       "    </tr>\n",
       "    <tr>\n",
       "      <th>1</th>\n",
       "      <td>28</td>\n",
       "      <td>Private</td>\n",
       "      <td>208249</td>\n",
       "      <td>Some-college</td>\n",
       "      <td>10</td>\n",
       "      <td>Divorced</td>\n",
       "      <td>Tech-support</td>\n",
       "      <td>Not-in-family</td>\n",
       "      <td>White</td>\n",
       "      <td>Male</td>\n",
       "      <td>0</td>\n",
       "      <td>0</td>\n",
       "      <td>24</td>\n",
       "      <td>United-States</td>\n",
       "      <td>0</td>\n",
       "    </tr>\n",
       "    <tr>\n",
       "      <th>2</th>\n",
       "      <td>49</td>\n",
       "      <td>Private</td>\n",
       "      <td>143459</td>\n",
       "      <td>9th</td>\n",
       "      <td>5</td>\n",
       "      <td>Separated</td>\n",
       "      <td>Handlers-cleaners</td>\n",
       "      <td>Own-child</td>\n",
       "      <td>White</td>\n",
       "      <td>Male</td>\n",
       "      <td>0</td>\n",
       "      <td>0</td>\n",
       "      <td>38</td>\n",
       "      <td>United-States</td>\n",
       "      <td>0</td>\n",
       "    </tr>\n",
       "    <tr>\n",
       "      <th>3</th>\n",
       "      <td>24</td>\n",
       "      <td>Private</td>\n",
       "      <td>228772</td>\n",
       "      <td>5th-6th</td>\n",
       "      <td>3</td>\n",
       "      <td>Never-married</td>\n",
       "      <td>Machine-op-inspct</td>\n",
       "      <td>Other-relative</td>\n",
       "      <td>White</td>\n",
       "      <td>Female</td>\n",
       "      <td>0</td>\n",
       "      <td>0</td>\n",
       "      <td>40</td>\n",
       "      <td>Mexico</td>\n",
       "      <td>0</td>\n",
       "    </tr>\n",
       "    <tr>\n",
       "      <th>4</th>\n",
       "      <td>20</td>\n",
       "      <td>State-gov</td>\n",
       "      <td>41103</td>\n",
       "      <td>Some-college</td>\n",
       "      <td>10</td>\n",
       "      <td>Never-married</td>\n",
       "      <td>Other-service</td>\n",
       "      <td>Own-child</td>\n",
       "      <td>White</td>\n",
       "      <td>Female</td>\n",
       "      <td>0</td>\n",
       "      <td>0</td>\n",
       "      <td>20</td>\n",
       "      <td>United-States</td>\n",
       "      <td>0</td>\n",
       "    </tr>\n",
       "  </tbody>\n",
       "</table>\n",
       "</div>"
      ],
      "text/plain": [
       "   age   workclass  fnlwgt      education  education-num  Marital-status  \\\n",
       "0   24     Private  258298      Assoc-voc             11   Never-married   \n",
       "1   28     Private  208249   Some-college             10        Divorced   \n",
       "2   49     Private  143459            9th              5       Separated   \n",
       "3   24     Private  228772        5th-6th              3   Never-married   \n",
       "4   20   State-gov   41103   Some-college             10   Never-married   \n",
       "\n",
       "           occupation     relationship    race      sex  capital-gain  \\\n",
       "0        Tech-support    Not-in-family   White     Male             0   \n",
       "1        Tech-support    Not-in-family   White     Male             0   \n",
       "2   Handlers-cleaners        Own-child   White     Male             0   \n",
       "3   Machine-op-inspct   Other-relative   White   Female             0   \n",
       "4       Other-service        Own-child   White   Female             0   \n",
       "\n",
       "   capital-loss  hours-per-week  native-country  income  \n",
       "0             0              45   United-States       0  \n",
       "1             0              24   United-States       0  \n",
       "2             0              38   United-States       0  \n",
       "3             0              40          Mexico       0  \n",
       "4             0              20   United-States       0  "
      ]
     },
     "execution_count": 3,
     "metadata": {},
     "output_type": "execute_result"
    }
   ],
   "source": [
    "train.head()"
   ]
  },
  {
   "cell_type": "code",
   "execution_count": 4,
   "metadata": {},
   "outputs": [
    {
     "name": "stdout",
     "output_type": "stream",
     "text": [
      "<class 'pandas.core.frame.DataFrame'>\n",
      "RangeIndex: 34189 entries, 0 to 34188\n",
      "Data columns (total 15 columns):\n",
      "age               34189 non-null int64\n",
      "workclass         34189 non-null object\n",
      "fnlwgt            34189 non-null int64\n",
      "education         34189 non-null object\n",
      "education-num     34189 non-null int64\n",
      "Marital-status    34189 non-null object\n",
      "occupation        34189 non-null object\n",
      "relationship      34189 non-null object\n",
      "race              34189 non-null object\n",
      "sex               34189 non-null object\n",
      "capital-gain      34189 non-null int64\n",
      "capital-loss      34189 non-null int64\n",
      "hours-per-week    34189 non-null int64\n",
      "native-country    34189 non-null object\n",
      "income            34189 non-null int64\n",
      "dtypes: int64(7), object(8)\n",
      "memory usage: 3.9+ MB\n"
     ]
    }
   ],
   "source": [
    "# 15columns: 7 int column + 8 object column\n",
    "# 34189 entries\n",
    "train.info()"
   ]
  },
  {
   "cell_type": "code",
   "execution_count": 5,
   "metadata": {},
   "outputs": [
    {
     "name": "stdout",
     "output_type": "stream",
     "text": [
      "<class 'pandas.core.frame.DataFrame'>\n",
      "RangeIndex: 14653 entries, 0 to 14652\n",
      "Data columns (total 14 columns):\n",
      "age               14653 non-null int64\n",
      "workclass         14653 non-null object\n",
      "fnlwgt            14653 non-null int64\n",
      "education         14653 non-null object\n",
      "education-num     14653 non-null int64\n",
      "Marital-status    14653 non-null object\n",
      "occupation        14653 non-null object\n",
      "relationship      14653 non-null object\n",
      "race              14653 non-null object\n",
      "sex               14653 non-null object\n",
      "capital-gain      14653 non-null int64\n",
      "capital-loss      14653 non-null int64\n",
      "hours-per-week    14653 non-null int64\n",
      "native-country    14653 non-null object\n",
      "dtypes: int64(6), object(8)\n",
      "memory usage: 1.6+ MB\n"
     ]
    }
   ],
   "source": [
    "# 14 columns: 6 int column + 8 object column\n",
    "test_x.info()"
   ]
  },
  {
   "cell_type": "code",
   "execution_count": 6,
   "metadata": {},
   "outputs": [
    {
     "data": {
      "text/plain": [
       " Private             23702\n",
       " Self-emp-not-inc     2713\n",
       " Local-gov            2218\n",
       " ?                    1950\n",
       " State-gov            1393\n",
       " Self-emp-inc         1192\n",
       " Federal-gov           995\n",
       " Without-pay            16\n",
       " Never-worked           10\n",
       "Name: workclass, dtype: int64"
      ]
     },
     "execution_count": 6,
     "metadata": {},
     "output_type": "execute_result"
    }
   ],
   "source": [
    "# now we find that there is no nan value in train and test_x, so we find if there are some strange value in object column\n",
    "train.workclass.value_counts() # ? 1950"
   ]
  },
  {
   "cell_type": "code",
   "execution_count": 7,
   "metadata": {},
   "outputs": [
    {
     "data": {
      "text/plain": [
       " Prof-specialty       4323\n",
       " Exec-managerial      4285\n",
       " Craft-repair         4244\n",
       " Adm-clerical         3977\n",
       " Sales                3852\n",
       " Other-service        3407\n",
       " Machine-op-inspct    2094\n",
       " ?                    1960\n",
       " Transport-moving     1672\n",
       " Handlers-cleaners    1432\n",
       " Farming-fishing      1084\n",
       " Tech-support          982\n",
       " Protective-serv       700\n",
       " Priv-house-serv       168\n",
       " Armed-Forces            9\n",
       "Name: occupation, dtype: int64"
      ]
     },
     "execution_count": 7,
     "metadata": {},
     "output_type": "execute_result"
    }
   ],
   "source": [
    "train['occupation'].value_counts() # ? 1960"
   ]
  },
  {
   "cell_type": "code",
   "execution_count": 8,
   "metadata": {},
   "outputs": [
    {
     "data": {
      "text/plain": [
       " United-States                 30722\n",
       " Mexico                          669\n",
       " ?                               589\n",
       " Philippines                     208\n",
       " Germany                         152\n",
       " Canada                          129\n",
       " Puerto-Rico                     127\n",
       " India                           107\n",
       " El-Salvador                     100\n",
       " Cuba                            100\n",
       " England                          89\n",
       " South                            82\n",
       " China                            79\n",
       " Dominican-Republic               75\n",
       " Italy                            71\n",
       " Jamaica                          70\n",
       " Guatemala                        62\n",
       " Columbia                         61\n",
       " Poland                           60\n",
       " Japan                            56\n",
       " Portugal                         51\n",
       " Vietnam                          50\n",
       " Taiwan                           47\n",
       " Haiti                            47\n",
       " Iran                             41\n",
       " Greece                           35\n",
       " Nicaragua                        32\n",
       " France                           30\n",
       " Peru                             28\n",
       " Ecuador                          27\n",
       " Hong                             22\n",
       " Trinadad&Tobago                  22\n",
       " Cambodia                         21\n",
       " Ireland                          21\n",
       " Thailand                         19\n",
       " Outlying-US(Guam-USVI-etc)       17\n",
       " Yugoslavia                       15\n",
       " Laos                             14\n",
       " Hungary                          14\n",
       " Honduras                         14\n",
       " Scotland                         13\n",
       " Holand-Netherlands                1\n",
       "Name: native-country, dtype: int64"
      ]
     },
     "execution_count": 8,
     "metadata": {},
     "output_type": "execute_result"
    }
   ],
   "source": [
    "train['native-country'].value_counts() # ? 589"
   ]
  },
  {
   "cell_type": "code",
   "execution_count": 9,
   "metadata": {
    "collapsed": true
   },
   "outputs": [],
   "source": [
    "# we find strang' ?', so we replace it by np.nan\n",
    "train.replace(' ?', np.nan, inplace=True)\n",
    "test_x.replace(' ?', np.nan, inplace=True)"
   ]
  },
  {
   "cell_type": "code",
   "execution_count": 10,
   "metadata": {},
   "outputs": [
    {
     "data": {
      "text/plain": [
       "age                  0\n",
       "workclass         1950\n",
       "fnlwgt               0\n",
       "education            0\n",
       "education-num        0\n",
       "Marital-status       0\n",
       "occupation        1960\n",
       "relationship         0\n",
       "race                 0\n",
       "sex                  0\n",
       "capital-gain         0\n",
       "capital-loss         0\n",
       "hours-per-week       0\n",
       "native-country     589\n",
       "income               0\n",
       "dtype: int64"
      ]
     },
     "execution_count": 10,
     "metadata": {},
     "output_type": "execute_result"
    }
   ],
   "source": [
    "# after replace, we explore data continually\n",
    "train.isnull().sum()"
   ]
  },
  {
   "cell_type": "code",
   "execution_count": 11,
   "metadata": {},
   "outputs": [
    {
     "data": {
      "text/plain": [
       "age                 0\n",
       "workclass         849\n",
       "fnlwgt              0\n",
       "education           0\n",
       "education-num       0\n",
       "Marital-status      0\n",
       "occupation        849\n",
       "relationship        0\n",
       "race                0\n",
       "sex                 0\n",
       "capital-gain        0\n",
       "capital-loss        0\n",
       "hours-per-week      0\n",
       "native-country    268\n",
       "dtype: int64"
      ]
     },
     "execution_count": 11,
     "metadata": {},
     "output_type": "execute_result"
    }
   ],
   "source": [
    "test_x.isnull().sum()"
   ]
  },
  {
   "cell_type": "markdown",
   "metadata": {},
   "source": [
    "### 2.4 now we have find missing value(still don't processing), and we bagin to preprocess the data and make feature engineering"
   ]
  },
  {
   "cell_type": "code",
   "execution_count": 12,
   "metadata": {},
   "outputs": [
    {
     "data": {
      "text/plain": [
       "0    26021\n",
       "1     8168\n",
       "Name: income, dtype: int64"
      ]
     },
     "execution_count": 12,
     "metadata": {},
     "output_type": "execute_result"
    }
   ],
   "source": [
    "train['income'].value_counts() # 0:26021, 1: 8186"
   ]
  },
  {
   "cell_type": "code",
   "execution_count": 13,
   "metadata": {
    "collapsed": true
   },
   "outputs": [],
   "source": [
    "%matplotlib inline"
   ]
  },
  {
   "cell_type": "code",
   "execution_count": 14,
   "metadata": {},
   "outputs": [
    {
     "data": {
      "image/png": "[encoded data removed]",
      "text/plain": [
       "<Figure size 432x288 with 1 Axes>"
      ]
     },
     "metadata": {},
     "output_type": "display_data"
    }
   ],
   "source": [
    "# 2.4.1 'age'(int)\n",
    "plt.hist(train['age']);"
   ]
  },
  {
   "cell_type": "code",
   "execution_count": 15,
   "metadata": {},
   "outputs": [
    {
     "data": {
      "text/plain": [
       "count    3.418900e+04\n",
       "mean     1.897921e+05\n",
       "std      1.054070e+05\n",
       "min      1.228500e+04\n",
       "25%      1.178470e+05\n",
       "50%      1.784490e+05\n",
       "75%      2.376240e+05\n",
       "max      1.490400e+06\n",
       "Name: fnlwgt, dtype: float64"
      ]
     },
     "execution_count": 15,
     "metadata": {},
     "output_type": "execute_result"
    }
   ],
   "source": [
    "# 2.4.2 'fnlwgt', transform it by log1p\n",
    "train['fnlwgt'].describe()"
   ]
  },
  {
   "cell_type": "code",
   "execution_count": 16,
   "metadata": {},
   "outputs": [
    {
     "data": {
      "text/plain": [
       "count    34189.000000\n",
       "mean        11.984927\n",
       "std          0.628397\n",
       "min          9.416216\n",
       "25%         11.677151\n",
       "50%         12.092064\n",
       "75%         12.378449\n",
       "max         14.214556\n",
       "Name: fnlwgt, dtype: float64"
      ]
     },
     "execution_count": 16,
     "metadata": {},
     "output_type": "execute_result"
    }
   ],
   "source": [
    "train['fnlwgt'] = train['fnlwgt'].apply(lambda x: np.log1p(x))\n",
    "test_x['fnlwgt'] = test_x['fnlwgt'].apply(lambda x: np.log1p(x))\n",
    "train['fnlwgt'].describe()"
   ]
  },
  {
   "cell_type": "code",
   "execution_count": 17,
   "metadata": {},
   "outputs": [
    {
     "data": {
      "text/plain": [
       " HS-grad         11079\n",
       " Some-college     7628\n",
       " Bachelors        5616\n",
       " Masters          1846\n",
       " Assoc-voc        1444\n",
       " 11th             1262\n",
       " Assoc-acdm       1105\n",
       " 10th              979\n",
       " 7th-8th           662\n",
       " Prof-school       585\n",
       " 9th               529\n",
       " 12th              460\n",
       " Doctorate         414\n",
       " 5th-6th           353\n",
       " 1st-4th           173\n",
       " Preschool          54\n",
       "Name: education, dtype: int64"
      ]
     },
     "execution_count": 17,
     "metadata": {},
     "output_type": "execute_result"
    }
   ],
   "source": [
    "# 2.4.3 'education', merge some education bg into 'primary'\n",
    "train['education'].value_counts()"
   ]
  },
  {
   "cell_type": "code",
   "execution_count": 18,
   "metadata": {},
   "outputs": [
    {
     "name": "stderr",
     "output_type": "stream",
     "text": [
      "D:\\Anaconda\\lib\\site-packages\\scipy\\stats\\stats.py:1713: FutureWarning: Using a non-tuple sequence for multidimensional indexing is deprecated; use `arr[tuple(seq)]` instead of `arr[seq]`. In the future this will be interpreted as an array index, `arr[np.array(seq)]`, which will result either in an error or a different result.\n",
      "  return np.add.reduce(sorted[indexer] * weights, axis=axis) / sumval\n"
     ]
    },
    {
     "data": {
      "image/png": "[encoded data removed]",
      "text/plain": [
       "<Figure size 504x504 with 1 Axes>"
      ]
     },
     "metadata": {},
     "output_type": "display_data"
    }
   ],
   "source": [
    "sns.factorplot(x='education', y='income', data=train, kind='bar', size=7, palette='muted')\n",
    "plt.xticks(rotation=60); # some education bg display the same income tendency"
   ]
  },
  {
   "cell_type": "code",
   "execution_count": 19,
   "metadata": {
    "collapsed": true
   },
   "outputs": [],
   "source": [
    "def primary(x):\n",
    "    if x in [' 1st-4th', ' 5th-6th', ' 7th-8th', ' 9th', ' 10th', ' 11th', ' 12th']:\n",
    "        return 'primary'\n",
    "    else:\n",
    "        return x\n",
    "\n",
    "train['education'] = train['education'].apply(primary)\n",
    "test_x['education'] = test_x['education'].apply(primary)"
   ]
  },
  {
   "cell_type": "code",
   "execution_count": 20,
   "metadata": {},
   "outputs": [
    {
     "name": "stderr",
     "output_type": "stream",
     "text": [
      "D:\\Anaconda\\lib\\site-packages\\scipy\\stats\\stats.py:1713: FutureWarning: Using a non-tuple sequence for multidimensional indexing is deprecated; use `arr[tuple(seq)]` instead of `arr[seq]`. In the future this will be interpreted as an array index, `arr[np.array(seq)]`, which will result either in an error or a different result.\n",
      "  return np.add.reduce(sorted[indexer] * weights, axis=axis) / sumval\n"
     ]
    },
    {
     "data": {
      "image/png": "[encoded data removed]",
      "text/plain": [
       "<Figure size 504x504 with 1 Axes>"
      ]
     },
     "metadata": {},
     "output_type": "display_data"
    }
   ],
   "source": [
    "sns.factorplot(x='education', y='income', data=train, kind='bar', size=7, palette='muted')\n",
    "plt.xticks(rotation=60);"
   ]
  },
  {
   "cell_type": "code",
   "execution_count": 21,
   "metadata": {},
   "outputs": [
    {
     "name": "stderr",
     "output_type": "stream",
     "text": [
      "D:\\Anaconda\\lib\\site-packages\\scipy\\stats\\stats.py:1713: FutureWarning: Using a non-tuple sequence for multidimensional indexing is deprecated; use `arr[tuple(seq)]` instead of `arr[seq]`. In the future this will be interpreted as an array index, `arr[np.array(seq)]`, which will result either in an error or a different result.\n",
      "  return np.add.reduce(sorted[indexer] * weights, axis=axis) / sumval\n"
     ]
    },
    {
     "data": {
      "image/png": "[encoded data removed]",
      "text/plain": [
       "<Figure size 504x504 with 1 Axes>"
      ]
     },
     "metadata": {},
     "output_type": "display_data"
    }
   ],
   "source": [
    "# 2.4.4 'education-num'\n",
    "sns.factorplot(x='education-num', y='income', data=train, kind='bar', size=7, palette='muted')\n",
    "plt.xticks(rotation=60); # income increase with the level of educaton-num increase"
   ]
  },
  {
   "cell_type": "code",
   "execution_count": 22,
   "metadata": {},
   "outputs": [
    {
     "name": "stderr",
     "output_type": "stream",
     "text": [
      "D:\\Anaconda\\lib\\site-packages\\scipy\\stats\\stats.py:1713: FutureWarning: Using a non-tuple sequence for multidimensional indexing is deprecated; use `arr[tuple(seq)]` instead of `arr[seq]`. In the future this will be interpreted as an array index, `arr[np.array(seq)]`, which will result either in an error or a different result.\n",
      "  return np.add.reduce(sorted[indexer] * weights, axis=axis) / sumval\n"
     ]
    },
    {
     "data": {
      "image/png": "[encoded data removed]",
      "text/plain": [
       "<Figure size 504x504 with 1 Axes>"
      ]
     },
     "metadata": {},
     "output_type": "display_data"
    }
   ],
   "source": [
    "# 2.4.5 'marital-status', merge 2(similar tendency and 1 is small in number) into 1\n",
    "sns.factorplot(x='Marital-status', y='income', data=train, kind='bar', size=7, palette='muted')\n",
    "plt.xticks(rotation=60);  # married-af-spouse is similar to married-civ-spouse"
   ]
  },
  {
   "cell_type": "code",
   "execution_count": 23,
   "metadata": {},
   "outputs": [
    {
     "data": {
      "text/plain": [
       " Married-civ-spouse       15708\n",
       " Never-married            11297\n",
       " Divorced                  4562\n",
       " Widowed                   1096\n",
       " Separated                 1065\n",
       " Married-spouse-absent      432\n",
       " Married-AF-spouse           29\n",
       "Name: Marital-status, dtype: int64"
      ]
     },
     "execution_count": 23,
     "metadata": {},
     "output_type": "execute_result"
    }
   ],
   "source": [
    "train['Marital-status'].value_counts() #  Married-AF-spouse  is so small "
   ]
  },
  {
   "cell_type": "code",
   "execution_count": 24,
   "metadata": {
    "collapsed": true
   },
   "outputs": [],
   "source": [
    "train['Marital-status'].replace(' Married-AF-spouse', ' Married-civ-spouse', inplace=True)\n",
    "test_x['Marital-status'].replace(' Married-AF-spouse', ' Married-civ-spouse', inplace=True)"
   ]
  },
  {
   "cell_type": "code",
   "execution_count": 25,
   "metadata": {},
   "outputs": [
    {
     "name": "stderr",
     "output_type": "stream",
     "text": [
      "D:\\Anaconda\\lib\\site-packages\\scipy\\stats\\stats.py:1713: FutureWarning: Using a non-tuple sequence for multidimensional indexing is deprecated; use `arr[tuple(seq)]` instead of `arr[seq]`. In the future this will be interpreted as an array index, `arr[np.array(seq)]`, which will result either in an error or a different result.\n",
      "  return np.add.reduce(sorted[indexer] * weights, axis=axis) / sumval\n"
     ]
    },
    {
     "data": {
      "image/png": "[encoded data removed]",
      "text/plain": [
       "<Figure size 504x504 with 1 Axes>"
      ]
     },
     "metadata": {},
     "output_type": "display_data"
    }
   ],
   "source": [
    "sns.factorplot(x='Marital-status', y='income', data=train, kind='bar', size=7, palette='muted')\n",
    "plt.xticks(rotation=60);"
   ]
  },
  {
   "cell_type": "code",
   "execution_count": 26,
   "metadata": {},
   "outputs": [
    {
     "name": "stderr",
     "output_type": "stream",
     "text": [
      "D:\\Anaconda\\lib\\site-packages\\scipy\\stats\\stats.py:1713: FutureWarning: Using a non-tuple sequence for multidimensional indexing is deprecated; use `arr[tuple(seq)]` instead of `arr[seq]`. In the future this will be interpreted as an array index, `arr[np.array(seq)]`, which will result either in an error or a different result.\n",
      "  return np.add.reduce(sorted[indexer] * weights, axis=axis) / sumval\n"
     ]
    },
    {
     "data": {
      "image/png": "[encoded data removed]",
      "text/plain": [
       "<Figure size 504x504 with 1 Axes>"
      ]
     },
     "metadata": {},
     "output_type": "display_data"
    }
   ],
   "source": [
    "# 2.4.6 'relationship', \n",
    "sns.factorplot(x='relationship', y='income', data=train, kind='bar', size=7, palette='muted')\n",
    "plt.xticks(rotation=60);"
   ]
  },
  {
   "cell_type": "code",
   "execution_count": 27,
   "metadata": {},
   "outputs": [
    {
     "data": {
      "text/plain": [
       " Husband           13811\n",
       " Not-in-family      8750\n",
       " Own-child          5334\n",
       " Unmarried          3591\n",
       " Wife               1648\n",
       " Other-relative     1055\n",
       "Name: relationship, dtype: int64"
      ]
     },
     "execution_count": 27,
     "metadata": {},
     "output_type": "execute_result"
    }
   ],
   "source": [
    "train['relationship'].value_counts()# both wife and husband has big number, so we don't merge them"
   ]
  },
  {
   "cell_type": "code",
   "execution_count": 28,
   "metadata": {},
   "outputs": [
    {
     "name": "stderr",
     "output_type": "stream",
     "text": [
      "D:\\Anaconda\\lib\\site-packages\\scipy\\stats\\stats.py:1713: FutureWarning: Using a non-tuple sequence for multidimensional indexing is deprecated; use `arr[tuple(seq)]` instead of `arr[seq]`. In the future this will be interpreted as an array index, `arr[np.array(seq)]`, which will result either in an error or a different result.\n",
      "  return np.add.reduce(sorted[indexer] * weights, axis=axis) / sumval\n"
     ]
    },
    {
     "data": {
      "image/png": "[encoded data removed]",
      "text/plain": [
       "<Figure size 504x504 with 1 Axes>"
      ]
     },
     "metadata": {},
     "output_type": "display_data"
    }
   ],
   "source": [
    "# 2.4.7 'race'\n",
    "sns.factorplot(x='race', y='income', data=train, kind='bar', size=7, palette='muted')\n",
    "plt.xticks(rotation=60);"
   ]
  },
  {
   "cell_type": "code",
   "execution_count": 29,
   "metadata": {},
   "outputs": [
    {
     "data": {
      "text/plain": [
       " White                 29199\n",
       " Black                  3321\n",
       " Asian-Pac-Islander     1053\n",
       " Amer-Indian-Eskimo      332\n",
       " Other                   284\n",
       "Name: race, dtype: int64"
      ]
     },
     "execution_count": 29,
     "metadata": {},
     "output_type": "execute_result"
    }
   ],
   "source": [
    "train['race'].value_counts()"
   ]
  },
  {
   "cell_type": "code",
   "execution_count": 30,
   "metadata": {},
   "outputs": [
    {
     "name": "stderr",
     "output_type": "stream",
     "text": [
      "D:\\Anaconda\\lib\\site-packages\\scipy\\stats\\stats.py:1713: FutureWarning: Using a non-tuple sequence for multidimensional indexing is deprecated; use `arr[tuple(seq)]` instead of `arr[seq]`. In the future this will be interpreted as an array index, `arr[np.array(seq)]`, which will result either in an error or a different result.\n",
      "  return np.add.reduce(sorted[indexer] * weights, axis=axis) / sumval\n"
     ]
    },
    {
     "data": {
      "image/png": "[encoded data removed]",
      "text/plain": [
       "<Figure size 504x504 with 1 Axes>"
      ]
     },
     "metadata": {},
     "output_type": "display_data"
    }
   ],
   "source": [
    "# 2.4.8 'sex'\n",
    "sns.factorplot(x='sex', y='income', data=train, kind='bar', size=7, palette='muted')\n",
    "plt.xticks(rotation=60);"
   ]
  },
  {
   "cell_type": "code",
   "execution_count": 31,
   "metadata": {},
   "outputs": [
    {
     "data": {
      "image/png": "[encoded data removed]",
      "text/plain": [
       "<Figure size 432x288 with 1 Axes>"
      ]
     },
     "metadata": {},
     "output_type": "display_data"
    }
   ],
   "source": [
    "# 2.4.9 'capital gain' # training data and testing data has similar distribution,so we don't preprocess them\n",
    "plt.boxplot(train['capital-gain']);"
   ]
  },
  {
   "cell_type": "code",
   "execution_count": 32,
   "metadata": {},
   "outputs": [
    {
     "data": {
      "image/png": "[encoded data removed]",
      "text/plain": [
       "<Figure size 432x288 with 1 Axes>"
      ]
     },
     "metadata": {},
     "output_type": "display_data"
    }
   ],
   "source": [
    "plt.boxplot(test_x['capital-gain']);"
   ]
  },
  {
   "cell_type": "code",
   "execution_count": 33,
   "metadata": {},
   "outputs": [
    {
     "data": {
      "text/plain": [
       "count    34189.000000\n",
       "mean      1073.523765\n",
       "std       7451.485819\n",
       "min          0.000000\n",
       "25%          0.000000\n",
       "50%          0.000000\n",
       "75%          0.000000\n",
       "max      99999.000000\n",
       "Name: capital-gain, dtype: float64"
      ]
     },
     "execution_count": 33,
     "metadata": {},
     "output_type": "execute_result"
    }
   ],
   "source": [
    "train['capital-gain'].describe()"
   ]
  },
  {
   "cell_type": "code",
   "execution_count": 34,
   "metadata": {},
   "outputs": [
    {
     "data": {
      "text/plain": [
       "count    14653.000000\n",
       "mean      1092.002798\n",
       "std       7453.501351\n",
       "min          0.000000\n",
       "25%          0.000000\n",
       "50%          0.000000\n",
       "75%          0.000000\n",
       "max      99999.000000\n",
       "Name: capital-gain, dtype: float64"
      ]
     },
     "execution_count": 34,
     "metadata": {},
     "output_type": "execute_result"
    }
   ],
   "source": [
    "test_x['capital-gain'].describe()"
   ]
  },
  {
   "cell_type": "code",
   "execution_count": 35,
   "metadata": {},
   "outputs": [
    {
     "data": {
      "text/plain": [
       "count    34189.000000\n",
       "mean        87.645442\n",
       "std        403.366678\n",
       "min          0.000000\n",
       "25%          0.000000\n",
       "50%          0.000000\n",
       "75%          0.000000\n",
       "max       4356.000000\n",
       "Name: capital-loss, dtype: float64"
      ]
     },
     "execution_count": 35,
     "metadata": {},
     "output_type": "execute_result"
    }
   ],
   "source": [
    "# 2.4.10 'capital loss' : training data and testing data has similar distribution, so we don't preprocess\n",
    "train['capital-loss'].describe()"
   ]
  },
  {
   "cell_type": "code",
   "execution_count": 36,
   "metadata": {},
   "outputs": [
    {
     "data": {
      "image/png": "[encoded data removed]",
      "text/plain": [
       "<Figure size 432x288 with 1 Axes>"
      ]
     },
     "metadata": {},
     "output_type": "display_data"
    }
   ],
   "source": [
    "plt.hist(train['capital-loss']);"
   ]
  },
  {
   "cell_type": "code",
   "execution_count": 37,
   "metadata": {},
   "outputs": [
    {
     "data": {
      "image/png": "[encoded data removed]",
      "text/plain": [
       "<Figure size 432x288 with 1 Axes>"
      ]
     },
     "metadata": {},
     "output_type": "display_data"
    }
   ],
   "source": [
    "plt.hist(test_x['capital-loss']);"
   ]
  },
  {
   "cell_type": "code",
   "execution_count": 38,
   "metadata": {},
   "outputs": [
    {
     "data": {
      "image/png": "[encoded data removed]",
      "text/plain": [
       "<Figure size 432x288 with 1 Axes>"
      ]
     },
     "metadata": {},
     "output_type": "display_data"
    }
   ],
   "source": [
    "# 2.4.11 'hours-per-week': training data and testing data has similar distribution, so we don't preprocess\n",
    "plt.hist(train['hours-per-week']);"
   ]
  },
  {
   "cell_type": "code",
   "execution_count": 39,
   "metadata": {},
   "outputs": [
    {
     "data": {
      "image/png": "[encoded data removed]",
      "text/plain": [
       "<Figure size 432x288 with 1 Axes>"
      ]
     },
     "metadata": {},
     "output_type": "display_data"
    }
   ],
   "source": [
    "plt.hist(test_x['hours-per-week']);"
   ]
  },
  {
   "cell_type": "code",
   "execution_count": 40,
   "metadata": {},
   "outputs": [
    {
     "data": {
      "text/plain": [
       " United-States                 30722\n",
       " Mexico                          669\n",
       " Philippines                     208\n",
       " Germany                         152\n",
       " Canada                          129\n",
       " Puerto-Rico                     127\n",
       " India                           107\n",
       " Cuba                            100\n",
       " El-Salvador                     100\n",
       " England                          89\n",
       " South                            82\n",
       " China                            79\n",
       " Dominican-Republic               75\n",
       " Italy                            71\n",
       " Jamaica                          70\n",
       " Guatemala                        62\n",
       " Columbia                         61\n",
       " Poland                           60\n",
       " Japan                            56\n",
       " Portugal                         51\n",
       " Vietnam                          50\n",
       " Taiwan                           47\n",
       " Haiti                            47\n",
       " Iran                             41\n",
       " Greece                           35\n",
       " Nicaragua                        32\n",
       " France                           30\n",
       " Peru                             28\n",
       " Ecuador                          27\n",
       " Trinadad&Tobago                  22\n",
       " Hong                             22\n",
       " Cambodia                         21\n",
       " Ireland                          21\n",
       " Thailand                         19\n",
       " Outlying-US(Guam-USVI-etc)       17\n",
       " Yugoslavia                       15\n",
       " Laos                             14\n",
       " Hungary                          14\n",
       " Honduras                         14\n",
       " Scotland                         13\n",
       " Holand-Netherlands                1\n",
       "Name: native-country, dtype: int64"
      ]
     },
     "execution_count": 40,
     "metadata": {},
     "output_type": "execute_result"
    }
   ],
   "source": [
    "# 2.4.12 'native-country': fill missing value by US, and merge them by location\n",
    "train['native-country'].value_counts()"
   ]
  },
  {
   "cell_type": "code",
   "execution_count": 41,
   "metadata": {
    "collapsed": true
   },
   "outputs": [],
   "source": [
    "train['native-country'].fillna(' United-States', inplace=True)\n",
    "test_x['native-country'].fillna(' United-States', inplace=True)"
   ]
  },
  {
   "cell_type": "code",
   "execution_count": 42,
   "metadata": {},
   "outputs": [
    {
     "data": {
      "text/plain": [
       " United-States                 31311\n",
       " Mexico                          669\n",
       " Philippines                     208\n",
       " Germany                         152\n",
       " Canada                          129\n",
       " Puerto-Rico                     127\n",
       " India                           107\n",
       " Cuba                            100\n",
       " El-Salvador                     100\n",
       " England                          89\n",
       " South                            82\n",
       " China                            79\n",
       " Dominican-Republic               75\n",
       " Italy                            71\n",
       " Jamaica                          70\n",
       " Guatemala                        62\n",
       " Columbia                         61\n",
       " Poland                           60\n",
       " Japan                            56\n",
       " Portugal                         51\n",
       " Vietnam                          50\n",
       " Taiwan                           47\n",
       " Haiti                            47\n",
       " Iran                             41\n",
       " Greece                           35\n",
       " Nicaragua                        32\n",
       " France                           30\n",
       " Peru                             28\n",
       " Ecuador                          27\n",
       " Trinadad&Tobago                  22\n",
       " Hong                             22\n",
       " Cambodia                         21\n",
       " Ireland                          21\n",
       " Thailand                         19\n",
       " Outlying-US(Guam-USVI-etc)       17\n",
       " Yugoslavia                       15\n",
       " Laos                             14\n",
       " Hungary                          14\n",
       " Honduras                         14\n",
       " Scotland                         13\n",
       " Holand-Netherlands                1\n",
       "Name: native-country, dtype: int64"
      ]
     },
     "execution_count": 42,
     "metadata": {},
     "output_type": "execute_result"
    }
   ],
   "source": [
    "train['native-country'].value_counts()"
   ]
  },
  {
   "cell_type": "code",
   "execution_count": 43,
   "metadata": {},
   "outputs": [
    {
     "name": "stderr",
     "output_type": "stream",
     "text": [
      "D:\\Anaconda\\lib\\site-packages\\scipy\\stats\\stats.py:1713: FutureWarning: Using a non-tuple sequence for multidimensional indexing is deprecated; use `arr[tuple(seq)]` instead of `arr[seq]`. In the future this will be interpreted as an array index, `arr[np.array(seq)]`, which will result either in an error or a different result.\n",
      "  return np.add.reduce(sorted[indexer] * weights, axis=axis) / sumval\n"
     ]
    },
    {
     "data": {
      "image/png": "[encoded data removed]",
      "text/plain": [
       "<Figure size 720x720 with 1 Axes>"
      ]
     },
     "metadata": {},
     "output_type": "display_data"
    }
   ],
   "source": [
    "sns.factorplot(x=\"native-country\",y=\"income\",data=train,kind=\"bar\", size = 10, palette = \"muted\")\n",
    "plt.xticks(rotation=80);"
   ]
  },
  {
   "cell_type": "code",
   "execution_count": 44,
   "metadata": {
    "collapsed": true
   },
   "outputs": [],
   "source": [
    "def native(country):\n",
    "    if country in [' United-States', ' Cuba']:\n",
    "        return 'US'\n",
    "    elif country in [' England', ' Germany', ' Canada', ' Italy', ' France', ' Greece', ' Philippines']:\n",
    "        return 'Western'\n",
    "    elif country in [' Mexico', ' Puerto-Rico', ' Honduras', ' Jamaica', ' Columbia', ' Laos', ' Portugal', ' Haiti',\n",
    "                     ' Dominican-Republic', ' El-Salvador', ' Guatemala', ' Peru', \n",
    "                     ' Trinadad&Tobago', ' Outlying-US(Guam-USVI-etc)', ' Nicaragua', ' Vietnam', ' Holand-Netherlands' ]:\n",
    "        return 'Poor' # no offence\n",
    "    elif country in [' India', ' Iran', ' Cambodia', ' Taiwan', ' Japan', ' Yugoslavia', ' China', ' Hong']:\n",
    "        return 'Eastern'\n",
    "    elif country in [' South', ' Poland', ' Ireland', ' Hungary', ' Scotland', ' Thailand', ' Ecuador']:\n",
    "        return 'Poland team'\n",
    "    \n",
    "    else: \n",
    "        return country \n",
    "    \n",
    "\n",
    "train['native-country'] = train['native-country'].apply(native)\n",
    "test_x['native-country'] = test_x['native-country'].apply(native)"
   ]
  },
  {
   "cell_type": "code",
   "execution_count": 45,
   "metadata": {},
   "outputs": [
    {
     "data": {
      "text/plain": [
       "US             31411\n",
       "Poor            1440\n",
       "Western          714\n",
       "Eastern          388\n",
       "Poland team      236\n",
       "Name: native-country, dtype: int64"
      ]
     },
     "execution_count": 45,
     "metadata": {},
     "output_type": "execute_result"
    }
   ],
   "source": [
    "train['native-country'].value_counts()"
   ]
  },
  {
   "cell_type": "code",
   "execution_count": 46,
   "metadata": {},
   "outputs": [
    {
     "name": "stderr",
     "output_type": "stream",
     "text": [
      "D:\\Anaconda\\lib\\site-packages\\scipy\\stats\\stats.py:1713: FutureWarning: Using a non-tuple sequence for multidimensional indexing is deprecated; use `arr[tuple(seq)]` instead of `arr[seq]`. In the future this will be interpreted as an array index, `arr[np.array(seq)]`, which will result either in an error or a different result.\n",
      "  return np.add.reduce(sorted[indexer] * weights, axis=axis) / sumval\n"
     ]
    },
    {
     "data": {
      "image/png": "[encoded data removed]",
      "text/plain": [
       "<Figure size 720x720 with 1 Axes>"
      ]
     },
     "metadata": {},
     "output_type": "display_data"
    }
   ],
   "source": [
    "sns.factorplot(x=\"native-country\",y=\"income\",data=train,kind=\"bar\", size = 10, palette = \"muted\")\n",
    "plt.xticks(rotation=80);"
   ]
  },
  {
   "cell_type": "code",
   "execution_count": 47,
   "metadata": {},
   "outputs": [
    {
     "data": {
      "text/plain": [
       "age                  0\n",
       "workclass         1950\n",
       "fnlwgt               0\n",
       "education            0\n",
       "education-num        0\n",
       "Marital-status       0\n",
       "occupation        1960\n",
       "relationship         0\n",
       "race                 0\n",
       "sex                  0\n",
       "capital-gain         0\n",
       "capital-loss         0\n",
       "hours-per-week       0\n",
       "native-country       0\n",
       "income               0\n",
       "dtype: int64"
      ]
     },
     "execution_count": 47,
     "metadata": {},
     "output_type": "execute_result"
    }
   ],
   "source": [
    "train.isnull().sum()"
   ]
  },
  {
   "cell_type": "code",
   "execution_count": 48,
   "metadata": {},
   "outputs": [
    {
     "data": {
      "text/plain": [
       " Private             23702\n",
       " Self-emp-not-inc     2713\n",
       " Local-gov            2218\n",
       " State-gov            1393\n",
       " Self-emp-inc         1192\n",
       " Federal-gov           995\n",
       " Without-pay            16\n",
       " Never-worked           10\n",
       "Name: workclass, dtype: int64"
      ]
     },
     "execution_count": 48,
     "metadata": {},
     "output_type": "execute_result"
    }
   ],
   "source": [
    "# 2.4.13 'workclass': fill missing value by mode\n",
    "train['workclass'].value_counts()"
   ]
  },
  {
   "cell_type": "code",
   "execution_count": 49,
   "metadata": {},
   "outputs": [
    {
     "data": {
      "text/plain": [
       " Private             25652\n",
       " Self-emp-not-inc     2713\n",
       " Local-gov            2218\n",
       " State-gov            1393\n",
       " Self-emp-inc         1192\n",
       " Federal-gov           995\n",
       " Without-pay            16\n",
       " Never-worked           10\n",
       "Name: workclass, dtype: int64"
      ]
     },
     "execution_count": 49,
     "metadata": {},
     "output_type": "execute_result"
    }
   ],
   "source": [
    "train['workclass'].fillna(' Private', inplace=True)\n",
    "test_x['workclass'].fillna(' Private', inplace=True)\n",
    "train['workclass'].value_counts()"
   ]
  },
  {
   "cell_type": "code",
   "execution_count": 50,
   "metadata": {},
   "outputs": [
    {
     "data": {
      "text/plain": [
       " Private             11053\n",
       " Self-emp-not-inc     1149\n",
       " Local-gov             918\n",
       " State-gov             588\n",
       " Self-emp-inc          503\n",
       " Federal-gov           437\n",
       " Without-pay             5\n",
       "Name: workclass, dtype: int64"
      ]
     },
     "execution_count": 50,
     "metadata": {},
     "output_type": "execute_result"
    }
   ],
   "source": [
    "test_x['workclass'].value_counts()"
   ]
  },
  {
   "cell_type": "code",
   "execution_count": 51,
   "metadata": {
    "collapsed": true
   },
   "outputs": [],
   "source": [
    "train['workclass'].replace(' Never-worked', ' Without-pay', inplace=True)"
   ]
  },
  {
   "cell_type": "code",
   "execution_count": 52,
   "metadata": {},
   "outputs": [
    {
     "name": "stderr",
     "output_type": "stream",
     "text": [
      "D:\\Anaconda\\lib\\site-packages\\scipy\\stats\\stats.py:1713: FutureWarning: Using a non-tuple sequence for multidimensional indexing is deprecated; use `arr[tuple(seq)]` instead of `arr[seq]`. In the future this will be interpreted as an array index, `arr[np.array(seq)]`, which will result either in an error or a different result.\n",
      "  return np.add.reduce(sorted[indexer] * weights, axis=axis) / sumval\n"
     ]
    },
    {
     "data": {
      "image/png": "[encoded data removed]",
      "text/plain": [
       "<Figure size 720x720 with 1 Axes>"
      ]
     },
     "metadata": {},
     "output_type": "display_data"
    }
   ],
   "source": [
    "sns.factorplot(x=\"workclass\",y=\"income\",data=train,kind=\"bar\", size = 10, palette = \"muted\")\n",
    "plt.xticks(rotation=80);"
   ]
  },
  {
   "cell_type": "code",
   "execution_count": 53,
   "metadata": {
    "collapsed": true
   },
   "outputs": [],
   "source": [
    "# 2.4.14 'occupation' fill missing value by 0\n",
    "train['occupation'].fillna(' 0', inplace=True)\n",
    "test_x['occupation'].fillna(' 0', inplace=True)"
   ]
  },
  {
   "cell_type": "code",
   "execution_count": 54,
   "metadata": {},
   "outputs": [
    {
     "name": "stderr",
     "output_type": "stream",
     "text": [
      "D:\\Anaconda\\lib\\site-packages\\scipy\\stats\\stats.py:1713: FutureWarning: Using a non-tuple sequence for multidimensional indexing is deprecated; use `arr[tuple(seq)]` instead of `arr[seq]`. In the future this will be interpreted as an array index, `arr[np.array(seq)]`, which will result either in an error or a different result.\n",
      "  return np.add.reduce(sorted[indexer] * weights, axis=axis) / sumval\n"
     ]
    },
    {
     "data": {
      "image/png": "[encoded data removed]",
      "text/plain": [
       "<Figure size 720x720 with 1 Axes>"
      ]
     },
     "metadata": {},
     "output_type": "display_data"
    }
   ],
   "source": [
    "sns.factorplot(x=\"occupation\",y=\"income\",data=train,kind=\"bar\", size = 10, palette = \"muted\")\n",
    "plt.xticks(rotation=80);"
   ]
  },
  {
   "cell_type": "code",
   "execution_count": 55,
   "metadata": {},
   "outputs": [
    {
     "data": {
      "text/plain": [
       " Prof-specialty       4323\n",
       " Exec-managerial      4285\n",
       " Craft-repair         4244\n",
       " Adm-clerical         3977\n",
       " Sales                3852\n",
       " Other-service        3407\n",
       " Machine-op-inspct    2094\n",
       " 0                    1960\n",
       " Transport-moving     1672\n",
       " Handlers-cleaners    1432\n",
       " Farming-fishing      1084\n",
       " Tech-support          982\n",
       " Protective-serv       700\n",
       " Priv-house-serv       168\n",
       " Armed-Forces            9\n",
       "Name: occupation, dtype: int64"
      ]
     },
     "execution_count": 55,
     "metadata": {},
     "output_type": "execute_result"
    }
   ],
   "source": [
    "train['occupation'].value_counts()"
   ]
  },
  {
   "cell_type": "code",
   "execution_count": 56,
   "metadata": {
    "collapsed": true
   },
   "outputs": [],
   "source": [
    "train['occupation'].replace(' Armed-Forces', ' Protective-serv', inplace=True)\n",
    "test_x['occupation'].replace(' Armed-Forces', ' Protective-serv', inplace=True)"
   ]
  },
  {
   "cell_type": "code",
   "execution_count": 57,
   "metadata": {},
   "outputs": [
    {
     "name": "stderr",
     "output_type": "stream",
     "text": [
      "D:\\Anaconda\\lib\\site-packages\\scipy\\stats\\stats.py:1713: FutureWarning: Using a non-tuple sequence for multidimensional indexing is deprecated; use `arr[tuple(seq)]` instead of `arr[seq]`. In the future this will be interpreted as an array index, `arr[np.array(seq)]`, which will result either in an error or a different result.\n",
      "  return np.add.reduce(sorted[indexer] * weights, axis=axis) / sumval\n"
     ]
    },
    {
     "data": {
      "image/png": "[encoded data removed]",
      "text/plain": [
       "<Figure size 720x720 with 1 Axes>"
      ]
     },
     "metadata": {},
     "output_type": "display_data"
    }
   ],
   "source": [
    "sns.factorplot(x=\"occupation\",y=\"income\",data=train,kind=\"bar\", size = 10, palette = \"muted\")\n",
    "plt.xticks(rotation=80);"
   ]
  },
  {
   "cell_type": "code",
   "execution_count": 58,
   "metadata": {},
   "outputs": [
    {
     "data": {
      "text/plain": [
       "age               0\n",
       "workclass         0\n",
       "fnlwgt            0\n",
       "education         0\n",
       "education-num     0\n",
       "Marital-status    0\n",
       "occupation        0\n",
       "relationship      0\n",
       "race              0\n",
       "sex               0\n",
       "capital-gain      0\n",
       "capital-loss      0\n",
       "hours-per-week    0\n",
       "native-country    0\n",
       "income            0\n",
       "dtype: int64"
      ]
     },
     "execution_count": 58,
     "metadata": {},
     "output_type": "execute_result"
    }
   ],
   "source": [
    "train.isnull().sum()"
   ]
  },
  {
   "cell_type": "code",
   "execution_count": 59,
   "metadata": {},
   "outputs": [
    {
     "data": {
      "text/plain": [
       "age               0\n",
       "workclass         0\n",
       "fnlwgt            0\n",
       "education         0\n",
       "education-num     0\n",
       "Marital-status    0\n",
       "occupation        0\n",
       "relationship      0\n",
       "race              0\n",
       "sex               0\n",
       "capital-gain      0\n",
       "capital-loss      0\n",
       "hours-per-week    0\n",
       "native-country    0\n",
       "dtype: int64"
      ]
     },
     "execution_count": 59,
     "metadata": {},
     "output_type": "execute_result"
    }
   ],
   "source": [
    "test_x.isnull().sum()"
   ]
  },
  {
   "cell_type": "markdown",
   "metadata": {},
   "source": [
    "### 2.5 split training data to training and validation data"
   ]
  },
  {
   "cell_type": "code",
   "execution_count": 60,
   "metadata": {},
   "outputs": [
    {
     "data": {
      "text/plain": [
       "age                 int64\n",
       "workclass          object\n",
       "fnlwgt            float64\n",
       "education          object\n",
       "education-num       int64\n",
       "Marital-status     object\n",
       "occupation         object\n",
       "relationship       object\n",
       "race               object\n",
       "sex                object\n",
       "capital-gain        int64\n",
       "capital-loss        int64\n",
       "hours-per-week      int64\n",
       "native-country     object\n",
       "income              int64\n",
       "dtype: object"
      ]
     },
     "execution_count": 60,
     "metadata": {},
     "output_type": "execute_result"
    }
   ],
   "source": [
    "train.dtypes"
   ]
  },
  {
   "cell_type": "code",
   "execution_count": 61,
   "metadata": {},
   "outputs": [
    {
     "name": "stdout",
     "output_type": "stream",
     "text": [
      "workclass 7\n",
      "education 10\n",
      "Marital-status 6\n",
      "occupation 14\n",
      "relationship 6\n",
      "race 5\n",
      "sex 2\n",
      "native-country 5\n"
     ]
    }
   ],
   "source": [
    "# 2.5.1 list of columns with dtype: object\n",
    "categorical_features = train.select_dtypes(include=['object']).axes[1]\n",
    "for col in categorical_features:\n",
    "    print(col, train[col].nunique())"
   ]
  },
  {
   "cell_type": "code",
   "execution_count": 62,
   "metadata": {
    "collapsed": true
   },
   "outputs": [],
   "source": [
    "# 2.5.2 one-hot encoder\n",
    "for col in categorical_features:\n",
    "    train = pd.concat([train, pd.get_dummies(train[col], prefix=col, prefix_sep=':')], axis=1)\n",
    "    train.drop(col, axis=1, inplace=True)"
   ]
  },
  {
   "cell_type": "code",
   "execution_count": 63,
   "metadata": {},
   "outputs": [
    {
     "data": {
      "text/html": [
       "<div>\n",
       "<style>\n",
       "    .dataframe thead tr:only-child th {\n",
       "        text-align: right;\n",
       "    }\n",
       "\n",
       "    .dataframe thead th {\n",
       "        text-align: left;\n",
       "    }\n",
       "\n",
       "    .dataframe tbody tr th {\n",
       "        vertical-align: top;\n",
       "    }\n",
       "</style>\n",
       "<table border=\"1\" class=\"dataframe\">\n",
       "  <thead>\n",
       "    <tr style=\"text-align: right;\">\n",
       "      <th></th>\n",
       "      <th>age</th>\n",
       "      <th>fnlwgt</th>\n",
       "      <th>education-num</th>\n",
       "      <th>capital-gain</th>\n",
       "      <th>capital-loss</th>\n",
       "      <th>hours-per-week</th>\n",
       "      <th>income</th>\n",
       "      <th>workclass: Federal-gov</th>\n",
       "      <th>workclass: Local-gov</th>\n",
       "      <th>workclass: Private</th>\n",
       "      <th>...</th>\n",
       "      <th>race: Black</th>\n",
       "      <th>race: Other</th>\n",
       "      <th>race: White</th>\n",
       "      <th>sex: Female</th>\n",
       "      <th>sex: Male</th>\n",
       "      <th>native-country:Eastern</th>\n",
       "      <th>native-country:Poland team</th>\n",
       "      <th>native-country:Poor</th>\n",
       "      <th>native-country:US</th>\n",
       "      <th>native-country:Western</th>\n",
       "    </tr>\n",
       "  </thead>\n",
       "  <tbody>\n",
       "    <tr>\n",
       "      <th>0</th>\n",
       "      <td>24</td>\n",
       "      <td>12.461873</td>\n",
       "      <td>11</td>\n",
       "      <td>0</td>\n",
       "      <td>0</td>\n",
       "      <td>45</td>\n",
       "      <td>0</td>\n",
       "      <td>0</td>\n",
       "      <td>0</td>\n",
       "      <td>1</td>\n",
       "      <td>...</td>\n",
       "      <td>0</td>\n",
       "      <td>0</td>\n",
       "      <td>1</td>\n",
       "      <td>0</td>\n",
       "      <td>1</td>\n",
       "      <td>0</td>\n",
       "      <td>0</td>\n",
       "      <td>0</td>\n",
       "      <td>1</td>\n",
       "      <td>0</td>\n",
       "    </tr>\n",
       "    <tr>\n",
       "      <th>1</th>\n",
       "      <td>28</td>\n",
       "      <td>12.246495</td>\n",
       "      <td>10</td>\n",
       "      <td>0</td>\n",
       "      <td>0</td>\n",
       "      <td>24</td>\n",
       "      <td>0</td>\n",
       "      <td>0</td>\n",
       "      <td>0</td>\n",
       "      <td>1</td>\n",
       "      <td>...</td>\n",
       "      <td>0</td>\n",
       "      <td>0</td>\n",
       "      <td>1</td>\n",
       "      <td>0</td>\n",
       "      <td>1</td>\n",
       "      <td>0</td>\n",
       "      <td>0</td>\n",
       "      <td>0</td>\n",
       "      <td>1</td>\n",
       "      <td>0</td>\n",
       "    </tr>\n",
       "    <tr>\n",
       "      <th>2</th>\n",
       "      <td>49</td>\n",
       "      <td>11.873812</td>\n",
       "      <td>5</td>\n",
       "      <td>0</td>\n",
       "      <td>0</td>\n",
       "      <td>38</td>\n",
       "      <td>0</td>\n",
       "      <td>0</td>\n",
       "      <td>0</td>\n",
       "      <td>1</td>\n",
       "      <td>...</td>\n",
       "      <td>0</td>\n",
       "      <td>0</td>\n",
       "      <td>1</td>\n",
       "      <td>0</td>\n",
       "      <td>1</td>\n",
       "      <td>0</td>\n",
       "      <td>0</td>\n",
       "      <td>0</td>\n",
       "      <td>1</td>\n",
       "      <td>0</td>\n",
       "    </tr>\n",
       "    <tr>\n",
       "      <th>3</th>\n",
       "      <td>24</td>\n",
       "      <td>12.340486</td>\n",
       "      <td>3</td>\n",
       "      <td>0</td>\n",
       "      <td>0</td>\n",
       "      <td>40</td>\n",
       "      <td>0</td>\n",
       "      <td>0</td>\n",
       "      <td>0</td>\n",
       "      <td>1</td>\n",
       "      <td>...</td>\n",
       "      <td>0</td>\n",
       "      <td>0</td>\n",
       "      <td>1</td>\n",
       "      <td>1</td>\n",
       "      <td>0</td>\n",
       "      <td>0</td>\n",
       "      <td>0</td>\n",
       "      <td>1</td>\n",
       "      <td>0</td>\n",
       "      <td>0</td>\n",
       "    </tr>\n",
       "    <tr>\n",
       "      <th>4</th>\n",
       "      <td>20</td>\n",
       "      <td>10.623861</td>\n",
       "      <td>10</td>\n",
       "      <td>0</td>\n",
       "      <td>0</td>\n",
       "      <td>20</td>\n",
       "      <td>0</td>\n",
       "      <td>0</td>\n",
       "      <td>0</td>\n",
       "      <td>0</td>\n",
       "      <td>...</td>\n",
       "      <td>0</td>\n",
       "      <td>0</td>\n",
       "      <td>1</td>\n",
       "      <td>1</td>\n",
       "      <td>0</td>\n",
       "      <td>0</td>\n",
       "      <td>0</td>\n",
       "      <td>0</td>\n",
       "      <td>1</td>\n",
       "      <td>0</td>\n",
       "    </tr>\n",
       "  </tbody>\n",
       "</table>\n",
       "<p>5 rows × 62 columns</p>\n",
       "</div>"
      ],
      "text/plain": [
       "   age     fnlwgt  education-num  capital-gain  capital-loss  hours-per-week  \\\n",
       "0   24  12.461873             11             0             0              45   \n",
       "1   28  12.246495             10             0             0              24   \n",
       "2   49  11.873812              5             0             0              38   \n",
       "3   24  12.340486              3             0             0              40   \n",
       "4   20  10.623861             10             0             0              20   \n",
       "\n",
       "   income  workclass: Federal-gov  workclass: Local-gov  workclass: Private  \\\n",
       "0       0                       0                     0                   1   \n",
       "1       0                       0                     0                   1   \n",
       "2       0                       0                     0                   1   \n",
       "3       0                       0                     0                   1   \n",
       "4       0                       0                     0                   0   \n",
       "\n",
       "            ...            race: Black  race: Other  race: White  sex: Female  \\\n",
       "0           ...                      0            0            1            0   \n",
       "1           ...                      0            0            1            0   \n",
       "2           ...                      0            0            1            0   \n",
       "3           ...                      0            0            1            1   \n",
       "4           ...                      0            0            1            1   \n",
       "\n",
       "   sex: Male  native-country:Eastern  native-country:Poland team  \\\n",
       "0          1                       0                           0   \n",
       "1          1                       0                           0   \n",
       "2          1                       0                           0   \n",
       "3          0                       0                           0   \n",
       "4          0                       0                           0   \n",
       "\n",
       "   native-country:Poor  native-country:US  native-country:Western  \n",
       "0                    0                  1                       0  \n",
       "1                    0                  1                       0  \n",
       "2                    0                  1                       0  \n",
       "3                    1                  0                       0  \n",
       "4                    0                  1                       0  \n",
       "\n",
       "[5 rows x 62 columns]"
      ]
     },
     "execution_count": 63,
     "metadata": {},
     "output_type": "execute_result"
    }
   ],
   "source": [
    "train.head()"
   ]
  },
  {
   "cell_type": "code",
   "execution_count": 64,
   "metadata": {},
   "outputs": [
    {
     "name": "stdout",
     "output_type": "stream",
     "text": [
      "workclass 7\n",
      "education 10\n",
      "Marital-status 6\n",
      "occupation 14\n",
      "relationship 6\n",
      "race 5\n",
      "sex 2\n",
      "native-country 5\n"
     ]
    }
   ],
   "source": [
    "categorical_features = test_x.select_dtypes(include=['object']).axes[1]\n",
    "for col in categorical_features:\n",
    "    print(col, test_x[col].nunique())"
   ]
  },
  {
   "cell_type": "code",
   "execution_count": 65,
   "metadata": {},
   "outputs": [
    {
     "data": {
      "text/plain": [
       "Index(['age', 'fnlwgt', 'education-num', 'capital-gain', 'capital-loss',\n",
       "       'hours-per-week', 'income', 'workclass: Federal-gov',\n",
       "       'workclass: Local-gov', 'workclass: Private', 'workclass: Self-emp-inc',\n",
       "       'workclass: Self-emp-not-inc', 'workclass: State-gov',\n",
       "       'workclass: Without-pay', 'education: Assoc-acdm',\n",
       "       'education: Assoc-voc', 'education: Bachelors', 'education: Doctorate',\n",
       "       'education: HS-grad', 'education: Masters', 'education: Preschool',\n",
       "       'education: Prof-school', 'education: Some-college',\n",
       "       'education:primary', 'Marital-status: Divorced',\n",
       "       'Marital-status: Married-civ-spouse',\n",
       "       'Marital-status: Married-spouse-absent',\n",
       "       'Marital-status: Never-married', 'Marital-status: Separated',\n",
       "       'Marital-status: Widowed', 'occupation: 0', 'occupation: Adm-clerical',\n",
       "       'occupation: Craft-repair', 'occupation: Exec-managerial',\n",
       "       'occupation: Farming-fishing', 'occupation: Handlers-cleaners',\n",
       "       'occupation: Machine-op-inspct', 'occupation: Other-service',\n",
       "       'occupation: Priv-house-serv', 'occupation: Prof-specialty',\n",
       "       'occupation: Protective-serv', 'occupation: Sales',\n",
       "       'occupation: Tech-support', 'occupation: Transport-moving',\n",
       "       'relationship: Husband', 'relationship: Not-in-family',\n",
       "       'relationship: Other-relative', 'relationship: Own-child',\n",
       "       'relationship: Unmarried', 'relationship: Wife',\n",
       "       'race: Amer-Indian-Eskimo', 'race: Asian-Pac-Islander', 'race: Black',\n",
       "       'race: Other', 'race: White', 'sex: Female', 'sex: Male',\n",
       "       'native-country:Eastern', 'native-country:Poland team',\n",
       "       'native-country:Poor', 'native-country:US', 'native-country:Western'],\n",
       "      dtype='object')"
      ]
     },
     "execution_count": 65,
     "metadata": {},
     "output_type": "execute_result"
    }
   ],
   "source": [
    "train.columns"
   ]
  },
  {
   "cell_type": "code",
   "execution_count": 66,
   "metadata": {
    "collapsed": true
   },
   "outputs": [],
   "source": [
    "# 2.5.3 apply the same way(one-hot encoder) to test_x\n",
    "for col in categorical_features:\n",
    "    test_x = pd.concat([test_x, pd.get_dummies(test_x[col], prefix=col, prefix_sep=':')], axis=1)\n",
    "    test_x.drop(col, axis=1, inplace=True)"
   ]
  },
  {
   "cell_type": "code",
   "execution_count": 67,
   "metadata": {},
   "outputs": [
    {
     "data": {
      "text/html": [
       "<div>\n",
       "<style>\n",
       "    .dataframe thead tr:only-child th {\n",
       "        text-align: right;\n",
       "    }\n",
       "\n",
       "    .dataframe thead th {\n",
       "        text-align: left;\n",
       "    }\n",
       "\n",
       "    .dataframe tbody tr th {\n",
       "        vertical-align: top;\n",
       "    }\n",
       "</style>\n",
       "<table border=\"1\" class=\"dataframe\">\n",
       "  <thead>\n",
       "    <tr style=\"text-align: right;\">\n",
       "      <th></th>\n",
       "      <th>age</th>\n",
       "      <th>fnlwgt</th>\n",
       "      <th>education-num</th>\n",
       "      <th>capital-gain</th>\n",
       "      <th>capital-loss</th>\n",
       "      <th>hours-per-week</th>\n",
       "      <th>workclass: Federal-gov</th>\n",
       "      <th>workclass: Local-gov</th>\n",
       "      <th>workclass: Private</th>\n",
       "      <th>workclass: Self-emp-inc</th>\n",
       "      <th>...</th>\n",
       "      <th>race: Black</th>\n",
       "      <th>race: Other</th>\n",
       "      <th>race: White</th>\n",
       "      <th>sex: Female</th>\n",
       "      <th>sex: Male</th>\n",
       "      <th>native-country:Eastern</th>\n",
       "      <th>native-country:Poland team</th>\n",
       "      <th>native-country:Poor</th>\n",
       "      <th>native-country:US</th>\n",
       "      <th>native-country:Western</th>\n",
       "    </tr>\n",
       "  </thead>\n",
       "  <tbody>\n",
       "    <tr>\n",
       "      <th>0</th>\n",
       "      <td>51</td>\n",
       "      <td>11.925035</td>\n",
       "      <td>9</td>\n",
       "      <td>0</td>\n",
       "      <td>0</td>\n",
       "      <td>40</td>\n",
       "      <td>0</td>\n",
       "      <td>0</td>\n",
       "      <td>1</td>\n",
       "      <td>0</td>\n",
       "      <td>...</td>\n",
       "      <td>0</td>\n",
       "      <td>0</td>\n",
       "      <td>1</td>\n",
       "      <td>0</td>\n",
       "      <td>1</td>\n",
       "      <td>0</td>\n",
       "      <td>0</td>\n",
       "      <td>0</td>\n",
       "      <td>1</td>\n",
       "      <td>0</td>\n",
       "    </tr>\n",
       "    <tr>\n",
       "      <th>1</th>\n",
       "      <td>41</td>\n",
       "      <td>12.980777</td>\n",
       "      <td>11</td>\n",
       "      <td>4386</td>\n",
       "      <td>0</td>\n",
       "      <td>60</td>\n",
       "      <td>0</td>\n",
       "      <td>0</td>\n",
       "      <td>1</td>\n",
       "      <td>0</td>\n",
       "      <td>...</td>\n",
       "      <td>0</td>\n",
       "      <td>0</td>\n",
       "      <td>1</td>\n",
       "      <td>0</td>\n",
       "      <td>1</td>\n",
       "      <td>0</td>\n",
       "      <td>0</td>\n",
       "      <td>0</td>\n",
       "      <td>1</td>\n",
       "      <td>0</td>\n",
       "    </tr>\n",
       "    <tr>\n",
       "      <th>2</th>\n",
       "      <td>41</td>\n",
       "      <td>12.117296</td>\n",
       "      <td>9</td>\n",
       "      <td>0</td>\n",
       "      <td>0</td>\n",
       "      <td>40</td>\n",
       "      <td>0</td>\n",
       "      <td>1</td>\n",
       "      <td>0</td>\n",
       "      <td>0</td>\n",
       "      <td>...</td>\n",
       "      <td>1</td>\n",
       "      <td>0</td>\n",
       "      <td>0</td>\n",
       "      <td>0</td>\n",
       "      <td>1</td>\n",
       "      <td>0</td>\n",
       "      <td>0</td>\n",
       "      <td>0</td>\n",
       "      <td>1</td>\n",
       "      <td>0</td>\n",
       "    </tr>\n",
       "    <tr>\n",
       "      <th>3</th>\n",
       "      <td>59</td>\n",
       "      <td>12.207656</td>\n",
       "      <td>9</td>\n",
       "      <td>0</td>\n",
       "      <td>0</td>\n",
       "      <td>40</td>\n",
       "      <td>0</td>\n",
       "      <td>0</td>\n",
       "      <td>1</td>\n",
       "      <td>0</td>\n",
       "      <td>...</td>\n",
       "      <td>0</td>\n",
       "      <td>0</td>\n",
       "      <td>1</td>\n",
       "      <td>0</td>\n",
       "      <td>1</td>\n",
       "      <td>0</td>\n",
       "      <td>0</td>\n",
       "      <td>0</td>\n",
       "      <td>1</td>\n",
       "      <td>0</td>\n",
       "    </tr>\n",
       "    <tr>\n",
       "      <th>4</th>\n",
       "      <td>53</td>\n",
       "      <td>11.257556</td>\n",
       "      <td>10</td>\n",
       "      <td>0</td>\n",
       "      <td>0</td>\n",
       "      <td>60</td>\n",
       "      <td>0</td>\n",
       "      <td>0</td>\n",
       "      <td>1</td>\n",
       "      <td>0</td>\n",
       "      <td>...</td>\n",
       "      <td>0</td>\n",
       "      <td>0</td>\n",
       "      <td>1</td>\n",
       "      <td>0</td>\n",
       "      <td>1</td>\n",
       "      <td>0</td>\n",
       "      <td>0</td>\n",
       "      <td>0</td>\n",
       "      <td>1</td>\n",
       "      <td>0</td>\n",
       "    </tr>\n",
       "  </tbody>\n",
       "</table>\n",
       "<p>5 rows × 61 columns</p>\n",
       "</div>"
      ],
      "text/plain": [
       "   age     fnlwgt  education-num  capital-gain  capital-loss  hours-per-week  \\\n",
       "0   51  11.925035              9             0             0              40   \n",
       "1   41  12.980777             11          4386             0              60   \n",
       "2   41  12.117296              9             0             0              40   \n",
       "3   59  12.207656              9             0             0              40   \n",
       "4   53  11.257556             10             0             0              60   \n",
       "\n",
       "   workclass: Federal-gov  workclass: Local-gov  workclass: Private  \\\n",
       "0                       0                     0                   1   \n",
       "1                       0                     0                   1   \n",
       "2                       0                     1                   0   \n",
       "3                       0                     0                   1   \n",
       "4                       0                     0                   1   \n",
       "\n",
       "   workclass: Self-emp-inc           ...            race: Black  race: Other  \\\n",
       "0                        0           ...                      0            0   \n",
       "1                        0           ...                      0            0   \n",
       "2                        0           ...                      1            0   \n",
       "3                        0           ...                      0            0   \n",
       "4                        0           ...                      0            0   \n",
       "\n",
       "   race: White  sex: Female  sex: Male  native-country:Eastern  \\\n",
       "0            1            0          1                       0   \n",
       "1            1            0          1                       0   \n",
       "2            0            0          1                       0   \n",
       "3            1            0          1                       0   \n",
       "4            1            0          1                       0   \n",
       "\n",
       "   native-country:Poland team  native-country:Poor  native-country:US  \\\n",
       "0                           0                    0                  1   \n",
       "1                           0                    0                  1   \n",
       "2                           0                    0                  1   \n",
       "3                           0                    0                  1   \n",
       "4                           0                    0                  1   \n",
       "\n",
       "   native-country:Western  \n",
       "0                       0  \n",
       "1                       0  \n",
       "2                       0  \n",
       "3                       0  \n",
       "4                       0  \n",
       "\n",
       "[5 rows x 61 columns]"
      ]
     },
     "execution_count": 67,
     "metadata": {},
     "output_type": "execute_result"
    }
   ],
   "source": [
    "test_x.head()"
   ]
  },
  {
   "cell_type": "code",
   "execution_count": 68,
   "metadata": {},
   "outputs": [
    {
     "data": {
      "text/plain": [
       "Index(['age', 'fnlwgt', 'education-num', 'capital-gain', 'capital-loss',\n",
       "       'hours-per-week', 'workclass: Federal-gov', 'workclass: Local-gov',\n",
       "       'workclass: Private', 'workclass: Self-emp-inc',\n",
       "       'workclass: Self-emp-not-inc', 'workclass: State-gov',\n",
       "       'workclass: Without-pay', 'education: Assoc-acdm',\n",
       "       'education: Assoc-voc', 'education: Bachelors', 'education: Doctorate',\n",
       "       'education: HS-grad', 'education: Masters', 'education: Preschool',\n",
       "       'education: Prof-school', 'education: Some-college',\n",
       "       'education:primary', 'Marital-status: Divorced',\n",
       "       'Marital-status: Married-civ-spouse',\n",
       "       'Marital-status: Married-spouse-absent',\n",
       "       'Marital-status: Never-married', 'Marital-status: Separated',\n",
       "       'Marital-status: Widowed', 'occupation: 0', 'occupation: Adm-clerical',\n",
       "       'occupation: Craft-repair', 'occupation: Exec-managerial',\n",
       "       'occupation: Farming-fishing', 'occupation: Handlers-cleaners',\n",
       "       'occupation: Machine-op-inspct', 'occupation: Other-service',\n",
       "       'occupation: Priv-house-serv', 'occupation: Prof-specialty',\n",
       "       'occupation: Protective-serv', 'occupation: Sales',\n",
       "       'occupation: Tech-support', 'occupation: Transport-moving',\n",
       "       'relationship: Husband', 'relationship: Not-in-family',\n",
       "       'relationship: Other-relative', 'relationship: Own-child',\n",
       "       'relationship: Unmarried', 'relationship: Wife',\n",
       "       'race: Amer-Indian-Eskimo', 'race: Asian-Pac-Islander', 'race: Black',\n",
       "       'race: Other', 'race: White', 'sex: Female', 'sex: Male',\n",
       "       'native-country:Eastern', 'native-country:Poland team',\n",
       "       'native-country:Poor', 'native-country:US', 'native-country:Western'],\n",
       "      dtype='object')"
      ]
     },
     "execution_count": 68,
     "metadata": {},
     "output_type": "execute_result"
    }
   ],
   "source": [
    "test_x.columns"
   ]
  },
  {
   "cell_type": "code",
   "execution_count": 69,
   "metadata": {
    "collapsed": true
   },
   "outputs": [],
   "source": [
    "# 2.5.4 scaler the X and split the training data to training data and validation data \n",
    "x = train.drop('income', axis=1)\n",
    "y = train['income']\n",
    "scaler = StandardScaler()\n",
    "scaler.fit(x)\n",
    "x = scaler.transform(x)\n",
    "test_x = scaler.transform(test_x)\n",
    "from sklearn.model_selection import train_test_split\n",
    "Xtrain, Xtest, Ttrain, Ttest = train_test_split(x, y, test_size=0.2, random_state=42)"
   ]
  },
  {
   "cell_type": "markdown",
   "metadata": {},
   "source": [
    "### 2.6 after prepare the data, we begin to use different model to compute the accuracy"
   ]
  },
  {
   "cell_type": "markdown",
   "metadata": {},
   "source": [
    "#### 2.6.1 logistic regression"
   ]
  },
  {
   "cell_type": "code",
   "execution_count": 70,
   "metadata": {},
   "outputs": [
    {
     "name": "stdout",
     "output_type": "stream",
     "text": [
      "training accuracy:  0.8549961610178787\n",
      "validation accuracy:  0.8490786779760163\n"
     ]
    }
   ],
   "source": [
    "from sklearn.linear_model import LogisticRegression\n",
    "model = LogisticRegression()\n",
    "model.fit(Xtrain, Ttrain)\n",
    "print('training accuracy: ', model.score(Xtrain, Ttrain))\n",
    "print('validation accuracy: ', model.score(Xtest, Ttest))"
   ]
  },
  {
   "cell_type": "markdown",
   "metadata": {},
   "source": [
    "#### 2.6.2 GBRT"
   ]
  },
  {
   "cell_type": "code",
   "execution_count": 71,
   "metadata": {},
   "outputs": [
    {
     "name": "stderr",
     "output_type": "stream",
     "text": [
      "D:\\Anaconda\\lib\\site-packages\\sklearn\\ensemble\\weight_boosting.py:29: DeprecationWarning: numpy.core.umath_tests is an internal NumPy module and should not be imported. It will be removed in a future NumPy release.\n",
      "  from numpy.core.umath_tests import inner1d\n",
      "D:\\Anaconda\\lib\\site-packages\\sklearn\\cross_validation.py:41: DeprecationWarning: This module was deprecated in version 0.18 in favor of the model_selection module into which all the refactored classes and functions are moved. Also note that the interface of the new CV iterators are different from that of this module. This module will be removed in 0.20.\n",
      "  \"This module will be removed in 0.20.\", DeprecationWarning)\n",
      "D:\\Anaconda\\lib\\site-packages\\sklearn\\grid_search.py:42: DeprecationWarning: This module was deprecated in version 0.18 in favor of the model_selection module into which all the refactored classes and functions are moved. This module will be removed in 0.20.\n",
      "  DeprecationWarning)\n"
     ]
    },
    {
     "name": "stdout",
     "output_type": "stream",
     "text": [
      "Accuracy: 0.8712\n",
      "AUC Score(train): 0.925578\n"
     ]
    }
   ],
   "source": [
    "from sklearn.ensemble import GradientBoostingClassifier\n",
    "from sklearn import cross_validation, metrics\n",
    "from sklearn.grid_search import GridSearchCV\n",
    "import matplotlib.pylab as plt\n",
    "gbm0 = GradientBoostingClassifier(random_state=10)\n",
    "gbm0.fit(Xtrain, Ttrain)\n",
    "y_pred = gbm0.predict(Xtrain)\n",
    "y_predprob = gbm0.predict_proba(Xtrain)[:,1]\n",
    "print('Accuracy: %.4g' % metrics.accuracy_score(Ttrain, y_pred))\n",
    "print('AUC Score(train): %f' % metrics.roc_auc_score(Ttrain, y_predprob))"
   ]
  },
  {
   "cell_type": "code",
   "execution_count": 76,
   "metadata": {},
   "outputs": [
    {
     "name": "stdout",
     "output_type": "stream",
     "text": [
      "traing accuracy: 0.888\n",
      "AUC Score(train): 0.945364\n",
      "validation accuracy : 0.8716\n"
     ]
    }
   ],
   "source": [
    "gbm2 = GradientBoostingClassifier(learning_rate=0.1, n_estimators=140,max_depth=12, min_samples_leaf =30, \n",
    "               min_samples_split =1800, max_features=38, subsample=1.0, random_state=10)\n",
    "gbm2.fit(Xtrain, Ttrain)\n",
    "y_pred = gbm2.predict(Xtrain)\n",
    "y_predprob = gbm2.predict_proba(Xtrain)[:,1]\n",
    "print('traing accuracy: %.4g' % metrics.accuracy_score(Ttrain, y_pred))\n",
    "print('AUC Score(train): %f' % metrics.roc_auc_score(Ttrain, y_predprob))\n",
    "test_pred = gbm2.predict(Xtest)\n",
    "print (\"validation accuracy : %.4g\" % metrics.accuracy_score(Ttest, test_pred))"
   ]
  },
  {
   "cell_type": "code",
   "execution_count": 85,
   "metadata": {},
   "outputs": [],
   "source": [
    "test_prediction = gbm2.predict(test_x)"
   ]
  },
  {
   "cell_type": "markdown",
   "metadata": {},
   "source": [
    "## 2.7 output the prediction result"
   ]
  },
  {
   "cell_type": "code",
   "execution_count": 90,
   "metadata": {
    "collapsed": true
   },
   "outputs": [],
   "source": [
    "import pandas as pd\n",
    "test_prediction_series = pd.Series(test_prediction)\n",
    "test_prediction_series.to_csv(path='E:/python/5002DM/assign2/A2_mguoaf_20527755_prediction.csv', index=False)"
   ]
  }
 ],
 "metadata": {
  "kernelspec": {
   "display_name": "Python 3",
   "language": "python",
   "name": "python3"
  },
  "language_info": {
   "codemirror_mode": {
    "name": "ipython",
    "version": 3
   },
   "file_extension": ".py",
   "mimetype": "text/x-python",
   "name": "python",
   "nbconvert_exporter": "python",
   "pygments_lexer": "ipython3",
   "version": "3.5.4"
  }
 },
 "nbformat": 4,
 "nbformat_minor": 2
}
