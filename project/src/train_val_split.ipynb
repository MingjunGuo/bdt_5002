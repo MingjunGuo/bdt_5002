{
 "cells": [
  {
   "cell_type": "code",
   "execution_count": 1,
   "metadata": {
    "collapsed": true
   },
   "outputs": [],
   "source": [
    "import pandas as pd\n",
    "import datetime"
   ]
  },
  {
   "cell_type": "code",
   "execution_count": 2,
   "metadata": {
    "collapsed": true
   },
   "outputs": [],
   "source": [
    "def train_val_split(data_type='norm'):\n",
    "    '''\n",
    "    Args:\n",
    "    data_type: which kind of data to use, \n",
    "    'original' for original data;\n",
    "    'norm' for standard normal distribution.      \n",
    "    '''\n",
    "    if data_type == 'norm':\n",
    "        meo = pd.read_csv('data/bj_meo_norm_data.csv')\n",
    "        aq = pd.read_csv('data/bj_aq_norm_data.csv')\n",
    "    elif data_type == 'original':\n",
    "        meo = pd.read_csv('data/bj_meo_data.csv')\n",
    "        aq = pd.read_csv('data/test/bj_aq_data.csv')\n",
    "    \n",
    "    meo['time'] = pd.to_datetime(meo['time'])\n",
    "    meo.set_index('time', inplace=True)\n",
    "    \n",
    "    aq['time'] = pd.to_datetime(aq['time'])\n",
    "    aq.set_index('time', inplace=True)\n",
    "    \n",
    "    # 1. 验证集 & aggregations\n",
    "    dev_start_time = '2018-4-1 0:00'\n",
    "    \n",
    "    aq_dev = aq.loc[dev_start_time: ]\n",
    "    meo_dev = meo.loc[dev_start_time: ]\n",
    "    \n",
    "    if data_type == 'norm':\n",
    "        aq_dev.to_csv('data/after_split/norm_data/bj_aq_dev_data.csv')\n",
    "        meo_dev.to_csv('data/after_split/norm_data/bj_meo_dev_data.csv')\n",
    "    elif data_type =='original':\n",
    "        aq_dev.to_csv('data/after_split/original_data/bj_aq_dev_data.csv')\n",
    "        meo_dev.to_csv('data/after_split/original_data/bj_meo_dev_data.csv')\n",
    "    \n",
    "    # 2. 训练集：取2018年4月25号之前所有的数据作为训练集， 并同意开始时间为2017-1-2\n",
    "    train_start_time = '2017/1/2 0:00'\n",
    "    train_end_time = '2018/3/30 0:00'\n",
    "    \n",
    "    aq_train = aq.loc[train_start_time: train_end_time]\n",
    "    meo_train = meo.loc[train_start_time: train_end_time]\n",
    "    \n",
    "    if data_type == 'norm':\n",
    "        aq_train.to_csv('data/after_split/norm_data/bj_aq_train_data.csv')\n",
    "        meo_train.to_csv('data/after_split/norm_data/bj_meo_train_data.csv')\n",
    "    elif data_type =='original':\n",
    "        aq_train.to_csv('data/after_split/original_data/bj_aq_train_data.csv')\n",
    "        meo_train.to_csv('data/after_split/original_data/bj_meo_train_data.csv')      "
   ]
  },
  {
   "cell_type": "code",
   "execution_count": 3,
   "metadata": {
    "collapsed": true
   },
   "outputs": [],
   "source": [
    "train_val_split(data_type='norm')"
   ]
  },
  {
   "cell_type": "code",
   "execution_count": 4,
   "metadata": {
    "collapsed": true
   },
   "outputs": [],
   "source": [
    "train_val_split(data_type='original')"
   ]
  }
 ],
 "metadata": {
  "kernelspec": {
   "display_name": "Python 3",
   "language": "python",
   "name": "python3"
  },
  "language_info": {
   "codemirror_mode": {
    "name": "ipython",
    "version": 3
   },
   "file_extension": ".py",
   "mimetype": "text/x-python",
   "name": "python",
   "nbconvert_exporter": "python",
   "pygments_lexer": "ipython3",
   "version": "3.5.4"
  },
  "varInspector": {
   "cols": {
    "lenName": 16,
    "lenType": 16,
    "lenVar": 40
   },
   "kernels_config": {
    "python": {
     "delete_cmd_postfix": "",
     "delete_cmd_prefix": "del ",
     "library": "var_list.py",
     "varRefreshCmd": "print(var_dic_list())"
    },
    "r": {
     "delete_cmd_postfix": ") ",
     "delete_cmd_prefix": "rm(",
     "library": "var_list.r",
     "varRefreshCmd": "cat(var_dic_list()) "
    }
   },
   "types_to_exclude": [
    "module",
    "function",
    "builtin_function_or_method",
    "instance",
    "_Feature"
   ],
   "window_display": false
  }
 },
 "nbformat": 4,
 "nbformat_minor": 2
}
