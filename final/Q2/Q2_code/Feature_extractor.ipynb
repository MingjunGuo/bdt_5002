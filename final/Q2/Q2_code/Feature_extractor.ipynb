{
 "cells": [
  {
   "cell_type": "code",
   "execution_count": 1,
   "metadata": {
    "collapsed": true
   },
   "outputs": [],
   "source": [
    "from sklearn.decomposition import PCA\n",
    "import numpy as np\n",
    "import pandas as pd\n",
    "import matplotlib.pyplot as plt"
   ]
  },
  {
   "cell_type": "code",
   "execution_count": 2,
   "metadata": {},
   "outputs": [
    {
     "data": {
      "text/html": [
       "<div>\n",
       "<style>\n",
       "    .dataframe thead tr:only-child th {\n",
       "        text-align: right;\n",
       "    }\n",
       "\n",
       "    .dataframe thead th {\n",
       "        text-align: left;\n",
       "    }\n",
       "\n",
       "    .dataframe tbody tr th {\n",
       "        vertical-align: top;\n",
       "    }\n",
       "</style>\n",
       "<table border=\"1\" class=\"dataframe\">\n",
       "  <thead>\n",
       "    <tr style=\"text-align: right;\">\n",
       "      <th></th>\n",
       "      <th>0</th>\n",
       "      <th>1</th>\n",
       "      <th>2</th>\n",
       "      <th>3</th>\n",
       "      <th>4</th>\n",
       "      <th>5</th>\n",
       "      <th>6</th>\n",
       "      <th>7</th>\n",
       "      <th>8</th>\n",
       "      <th>9</th>\n",
       "    </tr>\n",
       "  </thead>\n",
       "  <tbody>\n",
       "    <tr>\n",
       "      <th>0</th>\n",
       "      <td>3068</td>\n",
       "      <td>5</td>\n",
       "      <td>17</td>\n",
       "      <td>90</td>\n",
       "      <td>-1</td>\n",
       "      <td>1159</td>\n",
       "      <td>195</td>\n",
       "      <td>204</td>\n",
       "      <td>143</td>\n",
       "      <td>1421</td>\n",
       "    </tr>\n",
       "    <tr>\n",
       "      <th>1</th>\n",
       "      <td>3118</td>\n",
       "      <td>231</td>\n",
       "      <td>10</td>\n",
       "      <td>108</td>\n",
       "      <td>4</td>\n",
       "      <td>1273</td>\n",
       "      <td>204</td>\n",
       "      <td>249</td>\n",
       "      <td>182</td>\n",
       "      <td>1716</td>\n",
       "    </tr>\n",
       "    <tr>\n",
       "      <th>2</th>\n",
       "      <td>3199</td>\n",
       "      <td>54</td>\n",
       "      <td>2</td>\n",
       "      <td>362</td>\n",
       "      <td>21</td>\n",
       "      <td>5627</td>\n",
       "      <td>220</td>\n",
       "      <td>234</td>\n",
       "      <td>150</td>\n",
       "      <td>2794</td>\n",
       "    </tr>\n",
       "    <tr>\n",
       "      <th>3</th>\n",
       "      <td>3138</td>\n",
       "      <td>113</td>\n",
       "      <td>18</td>\n",
       "      <td>324</td>\n",
       "      <td>84</td>\n",
       "      <td>503</td>\n",
       "      <td>248</td>\n",
       "      <td>218</td>\n",
       "      <td>92</td>\n",
       "      <td>671</td>\n",
       "    </tr>\n",
       "    <tr>\n",
       "      <th>4</th>\n",
       "      <td>2410</td>\n",
       "      <td>301</td>\n",
       "      <td>24</td>\n",
       "      <td>85</td>\n",
       "      <td>27</td>\n",
       "      <td>854</td>\n",
       "      <td>147</td>\n",
       "      <td>222</td>\n",
       "      <td>212</td>\n",
       "      <td>1465</td>\n",
       "    </tr>\n",
       "  </tbody>\n",
       "</table>\n",
       "</div>"
      ],
      "text/plain": [
       "      0    1   2    3   4     5    6    7    8     9\n",
       "0  3068    5  17   90  -1  1159  195  204  143  1421\n",
       "1  3118  231  10  108   4  1273  204  249  182  1716\n",
       "2  3199   54   2  362  21  5627  220  234  150  2794\n",
       "3  3138  113  18  324  84   503  248  218   92   671\n",
       "4  2410  301  24   85  27   854  147  222  212  1465"
      ]
     },
     "execution_count": 2,
     "metadata": {},
     "output_type": "execute_result"
    }
   ],
   "source": [
    "# loading the data\n",
    "data_Q2 = pd.read_csv('Data_Q2/X.csv', header=None)\n",
    "data_Q2.head()"
   ]
  },
  {
   "cell_type": "code",
   "execution_count": 6,
   "metadata": {},
   "outputs": [
    {
     "data": {
      "text/plain": [
       "286048"
      ]
     },
     "execution_count": 6,
     "metadata": {},
     "output_type": "execute_result"
    }
   ],
   "source": [
    "len(data_Q2)"
   ]
  },
  {
   "cell_type": "code",
   "execution_count": 3,
   "metadata": {},
   "outputs": [
    {
     "name": "stdout",
     "output_type": "stream",
     "text": [
      "Explained variance percentage = 0.98\n",
      "保留的成分个数： 2\n"
     ]
    }
   ],
   "source": [
    "# Take PCA to reduce feature space dimensionality for inlier and test\n",
    "pca = PCA(n_components=2, whiten=True)\n",
    "pca = pca.fit(data_Q2)\n",
    "print('Explained variance percentage = %0.2f' % sum(pca.explained_variance_ratio_))\n",
    "print('保留的成分个数：', pca.n_components_)\n",
    "two_columns = pca.transform(data_Q2)"
   ]
  },
  {
   "cell_type": "code",
   "execution_count": 4,
   "metadata": {},
   "outputs": [
    {
     "data": {
      "text/plain": [
       "array([[-0.80935809,  0.09613267],\n",
       "       [-0.66127264,  0.23815657],\n",
       "       [ 1.68013878, -1.10016168],\n",
       "       ...,\n",
       "       [ 0.45238968, -0.26919673],\n",
       "       [ 0.19723319,  0.68252244],\n",
       "       [ 0.38644251,  0.77975556]])"
      ]
     },
     "execution_count": 4,
     "metadata": {},
     "output_type": "execute_result"
    }
   ],
   "source": [
    "two_columns"
   ]
  },
  {
   "cell_type": "code",
   "execution_count": 5,
   "metadata": {
    "collapsed": true
   },
   "outputs": [],
   "source": [
    "np.savetxt('two_columns.csv', two_columns, delimiter=',')"
   ]
  },
  {
   "cell_type": "code",
   "execution_count": null,
   "metadata": {
    "collapsed": true
   },
   "outputs": [],
   "source": []
  },
  {
   "cell_type": "code",
   "execution_count": null,
   "metadata": {
    "collapsed": true
   },
   "outputs": [],
   "source": []
  }
 ],
 "metadata": {
  "kernelspec": {
   "display_name": "Python 3",
   "language": "python",
   "name": "python3"
  },
  "language_info": {
   "codemirror_mode": {
    "name": "ipython",
    "version": 3
   },
   "file_extension": ".py",
   "mimetype": "text/x-python",
   "name": "python",
   "nbconvert_exporter": "python",
   "pygments_lexer": "ipython3",
   "version": "3.5.4"
  },
  "varInspector": {
   "cols": {
    "lenName": 16,
    "lenType": 16,
    "lenVar": 40
   },
   "kernels_config": {
    "python": {
     "delete_cmd_postfix": "",
     "delete_cmd_prefix": "del ",
     "library": "var_list.py",
     "varRefreshCmd": "print(var_dic_list())"
    },
    "r": {
     "delete_cmd_postfix": ") ",
     "delete_cmd_prefix": "rm(",
     "library": "var_list.r",
     "varRefreshCmd": "cat(var_dic_list()) "
    }
   },
   "types_to_exclude": [
    "module",
    "function",
    "builtin_function_or_method",
    "instance",
    "_Feature"
   ],
   "window_display": false
  }
 },
 "nbformat": 4,
 "nbformat_minor": 2
}
