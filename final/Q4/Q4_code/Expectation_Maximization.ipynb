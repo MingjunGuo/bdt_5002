{
 "cells": [
  {
   "cell_type": "code",
   "execution_count": 1,
   "metadata": {
    "collapsed": true
   },
   "outputs": [],
   "source": [
    "from numpy import *\n",
    "import time\n",
    "import matplotlib.pyplot as plt\n",
    "import pandas as pd, numpy as np\n",
    "from sklearn.cluster import KMeans"
   ]
  },
  {
   "cell_type": "code",
   "execution_count": 2,
   "metadata": {},
   "outputs": [
    {
     "data": {
      "text/html": [
       "<div>\n",
       "<style>\n",
       "    .dataframe thead tr:only-child th {\n",
       "        text-align: right;\n",
       "    }\n",
       "\n",
       "    .dataframe thead th {\n",
       "        text-align: left;\n",
       "    }\n",
       "\n",
       "    .dataframe tbody tr th {\n",
       "        vertical-align: top;\n",
       "    }\n",
       "</style>\n",
       "<table border=\"1\" class=\"dataframe\">\n",
       "  <thead>\n",
       "    <tr style=\"text-align: right;\">\n",
       "      <th></th>\n",
       "      <th>A</th>\n",
       "      <th>B</th>\n",
       "      <th>C</th>\n",
       "      <th>D</th>\n",
       "      <th>E</th>\n",
       "      <th>F</th>\n",
       "    </tr>\n",
       "  </thead>\n",
       "  <tbody>\n",
       "    <tr>\n",
       "      <th>0</th>\n",
       "      <td>2</td>\n",
       "      <td>2</td>\n",
       "      <td>36</td>\n",
       "      <td>34</td>\n",
       "      <td>0</td>\n",
       "      <td>0</td>\n",
       "    </tr>\n",
       "    <tr>\n",
       "      <th>1</th>\n",
       "      <td>2</td>\n",
       "      <td>5</td>\n",
       "      <td>6</td>\n",
       "      <td>1</td>\n",
       "      <td>0</td>\n",
       "      <td>1</td>\n",
       "    </tr>\n",
       "    <tr>\n",
       "      <th>2</th>\n",
       "      <td>4</td>\n",
       "      <td>7</td>\n",
       "      <td>17</td>\n",
       "      <td>9</td>\n",
       "      <td>2</td>\n",
       "      <td>1</td>\n",
       "    </tr>\n",
       "    <tr>\n",
       "      <th>3</th>\n",
       "      <td>10</td>\n",
       "      <td>10</td>\n",
       "      <td>24</td>\n",
       "      <td>11</td>\n",
       "      <td>0</td>\n",
       "      <td>3</td>\n",
       "    </tr>\n",
       "    <tr>\n",
       "      <th>4</th>\n",
       "      <td>3</td>\n",
       "      <td>2</td>\n",
       "      <td>3</td>\n",
       "      <td>1</td>\n",
       "      <td>0</td>\n",
       "      <td>1</td>\n",
       "    </tr>\n",
       "  </tbody>\n",
       "</table>\n",
       "</div>"
      ],
      "text/plain": [
       "    A   B   C   D  E  F\n",
       "0   2   2  36  34  0  0\n",
       "1   2   5   6   1  0  1\n",
       "2   4   7  17   9  2  1\n",
       "3  10  10  24  11  0  3\n",
       "4   3   2   3   1  0  1"
      ]
     },
     "execution_count": 2,
     "metadata": {},
     "output_type": "execute_result"
    }
   ],
   "source": [
    "df = pd.read_csv('Data_Q4/Q4_Data.csv')\n",
    "df.head()"
   ]
  },
  {
   "cell_type": "code",
   "execution_count": 12,
   "metadata": {
    "collapsed": true
   },
   "outputs": [],
   "source": [
    "def dist(v, c1,c2):\n",
    "    d1=np.sum(np.power(v - c1, 2))\n",
    "    d2=np.sum(np.power(v - c2, 2))\n",
    "    return d2/(d1+d2)"
   ]
  },
  {
   "cell_type": "code",
   "execution_count": 7,
   "metadata": {
    "collapsed": true
   },
   "outputs": [],
   "source": [
    "# k-means cluster\n",
    "def EM(df, k=2):\n",
    "    M = mat(zeros((df.shape[0], 2)))\n",
    "    c1=np.array([0,0,0,0,0,0])\n",
    "    c2=np.array([1,1,1,1,1,1])    \n",
    "    Flag = True\n",
    "    iter_num = 1 \n",
    "    while Flag:\n",
    "        print(\"iter{}\".format(iter_num))\n",
    "        for i,row in df.iterrows():\n",
    "            v=row.values\n",
    "            M[i, 0] = dist(v, c1,c2)\n",
    "            M[i, 1] = dist(v, c2,c1)\n",
    "        ## update\n",
    "        A1 = np.power(M.T[0],2)[0].dot(df[\"A\"].values)[0,0]/sum(np.power(M.T[0],2))\n",
    "        A2 = np.power(M.T[1],2)[0].dot(df[\"A\"].values)[0,0]/sum(np.power(M.T[1],2))\n",
    "        B1 = np.power(M.T[0],2)[0].dot(df[\"B\"].values)[0,0]/sum(np.power(M.T[0],2))\n",
    "        B2 = np.power(M.T[1],2)[0].dot(df[\"B\"].values)[0,0]/sum(np.power(M.T[1],2))\n",
    "        C1 = np.power(M.T[0],2)[0].dot(df[\"C\"].values)[0,0]/sum(np.power(M.T[0],2))\n",
    "        C2 = np.power(M.T[1],2)[0].dot(df[\"C\"].values)[0,0]/sum(np.power(M.T[1],2))\n",
    "        D1 = np.power(M.T[0],2)[0].dot(df[\"D\"].values)[0,0]/sum(np.power(M.T[0],2))\n",
    "        D2 = np.power(M.T[1],2)[0].dot(df[\"D\"].values)[0,0]/sum(np.power(M.T[1],2))\n",
    "        E1 = np.power(M.T[0],2)[0].dot(df[\"E\"].values)[0,0]/sum(np.power(M.T[0],2))\n",
    "        E2 = np.power(M.T[1],2)[0].dot(df[\"E\"].values)[0,0]/sum(np.power(M.T[1],2))\n",
    "        F1 = np.power(M.T[0],2)[0].dot(df[\"F\"].values)[0,0]/sum(np.power(M.T[0],2))\n",
    "        F2 = np.power(M.T[1],2)[0].dot(df[\"F\"].values)[0,0]/sum(np.power(M.T[1],2))\n",
    "        \n",
    "        # change Flag\n",
    "        if np.abs(np.sum(c1-np.array([A1,B1,C1,D1,E1,F1])) + np.sum(c2-np.array([A2,B2,C2,D2,E2,F2])))<0.0001:\n",
    "            Flag = False\n",
    "        if iter_num==100:\n",
    "            Flag = False\n",
    "            \n",
    "        # Update centroids\n",
    "        c1 = np.array([A1,B1,C1,D1,E1,F1])\n",
    "        c2 = np.array([A2,B2,C2,D2,E2,F2])    \n",
    "\n",
    "        # SSE\n",
    "        if iter_num<=2:\n",
    "            SSE=0\n",
    "            for i,row in df.iterrows():\n",
    "                SSE += M[i,0]* sum(np.power(row.values-c1,2)) + M[i,1]* sum(np.power(row.values-c2,2))\n",
    "            print('the center is', c1, c2)\n",
    "            print('the SSE is', SSE)\n",
    "        \n",
    "        iter_num +=1\n",
    "            \n",
    "    return iter_num, c1, c2    "
   ]
  },
  {
   "cell_type": "code",
   "execution_count": 13,
   "metadata": {},
   "outputs": [
    {
     "name": "stdout",
     "output_type": "stream",
     "text": [
      "iter1\n",
      "the center is [ 2.98792136  7.30724305 16.48227403 10.65664851  0.23655629  1.00679373] [ 2.69065848  5.55601619 12.26620984  7.48120434  0.24285351  0.99747068]\n",
      "the SSE is 367111.5055774729\n",
      "iter2\n",
      "the center is [ 3.3178565   8.76258517 20.6221998  13.79747907  0.28891998  1.08775325] [ 2.50680171  4.77056093 10.16570693  5.82192441  0.20821519  0.95235302]\n",
      "the SSE is 364992.69540533435\n",
      "iter3\n",
      "iter4\n",
      "iter5\n",
      "iter6\n",
      "iter7\n",
      "iter8\n",
      "iter9\n",
      "iter10\n",
      "iter11\n",
      "iter12\n",
      "iter13\n",
      "iter14\n",
      "iter15\n",
      "iter16\n",
      "iter17\n",
      "iter18\n",
      "iter19\n",
      "iter20\n",
      "iter21\n",
      "iter22\n",
      "iter23\n",
      "iter24\n",
      "iter25\n",
      "iter26\n",
      "iter27\n",
      "iter28\n",
      "iter29\n",
      "iter30\n",
      "iter31\n",
      "iter32\n",
      "iter33\n",
      "iter34\n"
     ]
    }
   ],
   "source": [
    "iter_num, c1, c2 = EM(df, k=2)"
   ]
  },
  {
   "cell_type": "code",
   "execution_count": 14,
   "metadata": {},
   "outputs": [
    {
     "data": {
      "text/plain": [
       "array([ 4.62056755, 14.72014621, 38.4113867 , 27.06530661,  0.28272855,\n",
       "        1.36682765])"
      ]
     },
     "execution_count": 14,
     "metadata": {},
     "output_type": "execute_result"
    }
   ],
   "source": [
    "c1"
   ]
  },
  {
   "cell_type": "code",
   "execution_count": 15,
   "metadata": {},
   "outputs": [
    {
     "data": {
      "text/plain": [
       "array([2.39808449, 4.13452911, 8.33493857, 4.39337388, 0.22207279,\n",
       "       0.9255393 ])"
      ]
     },
     "execution_count": 15,
     "metadata": {},
     "output_type": "execute_result"
    }
   ],
   "source": [
    "c2"
   ]
  },
  {
   "cell_type": "code",
   "execution_count": null,
   "metadata": {
    "collapsed": true
   },
   "outputs": [],
   "source": []
  }
 ],
 "metadata": {
  "kernelspec": {
   "display_name": "Python 3",
   "language": "python",
   "name": "python3"
  },
  "language_info": {
   "codemirror_mode": {
    "name": "ipython",
    "version": 3
   },
   "file_extension": ".py",
   "mimetype": "text/x-python",
   "name": "python",
   "nbconvert_exporter": "python",
   "pygments_lexer": "ipython3",
   "version": "3.5.4"
  },
  "varInspector": {
   "cols": {
    "lenName": 16,
    "lenType": 16,
    "lenVar": 40
   },
   "kernels_config": {
    "python": {
     "delete_cmd_postfix": "",
     "delete_cmd_prefix": "del ",
     "library": "var_list.py",
     "varRefreshCmd": "print(var_dic_list())"
    },
    "r": {
     "delete_cmd_postfix": ") ",
     "delete_cmd_prefix": "rm(",
     "library": "var_list.r",
     "varRefreshCmd": "cat(var_dic_list()) "
    }
   },
   "types_to_exclude": [
    "module",
    "function",
    "builtin_function_or_method",
    "instance",
    "_Feature"
   ],
   "window_display": false
  }
 },
 "nbformat": 4,
 "nbformat_minor": 2
}
